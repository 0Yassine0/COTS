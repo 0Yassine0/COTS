{
 "cells": [
  {
   "cell_type": "markdown",
   "metadata": {},
   "source": [
    "<div style=\"width:90%;\n",
    "            margin:10px;\n",
    "            padding:8px;\n",
    "            border:2px solid #FF0000;\n",
    "            border-radius:20px;\n",
    "            font-weight:bold;\n",
    "            font-size:2.5em;\n",
    "            text-align:center;\">\n",
    "The Space Shuttle Reentry Problem Using JuMP with different solvers\n",
    "</div>\n"
   ]
  },
  {
   "cell_type": "markdown",
   "metadata": {},
   "source": [
    "<div style=\"width:90%;\n",
    "            margin:9px;\n",
    "            font-size:1em;\">\n",
    "            \n",
    "The aim here is to compare the results of different solvers for the same problem: the space shuttle reentry problem using JuMP. For the integration method, we will use the trapezoidal rule. \n",
    "\n",
    "1. [Comparing Linear Solvers](#ls)\n",
    "2. [Comparing Non Linear Solvers](#nls)\n",
    "3. [Results](#res)\n",
    "\n",
    "\n",
    "</div>"
   ]
  },
  {
   "cell_type": "markdown",
   "metadata": {},
   "source": [
    "### Importing the Model"
   ]
  },
  {
   "cell_type": "code",
   "execution_count": 1,
   "metadata": {},
   "outputs": [],
   "source": [
    "using JuMP , Ipopt\n",
    "import HSL_jll\n",
    "using DataFrames, BenchmarkTools\n",
    "include(\"../Problems/JuMP/space_Shuttle_JMP.jl\")\n",
    "include(\"../Benchmark/utils.jl\")\n",
    "results = DataFrame( :method => String[], \n",
    "                    :total_time => String[],\n",
    "                    :objective_value => Float64[],\n",
    "                    :iterations => Int64[]);\n"
   ]
  },
  {
   "cell_type": "markdown",
   "metadata": {},
   "source": [
    "## 1. Comparing Linear Solvers : MUMPS, HSL_MA57 and HSL_MA27  <a id=\"ls\"></a>"
   ]
  },
  {
   "cell_type": "markdown",
   "metadata": {},
   "source": [
    "#### 1. MUMPS"
   ]
  },
  {
   "cell_type": "code",
   "execution_count": 2,
   "metadata": {},
   "outputs": [
    {
     "name": "stdout",
     "output_type": "stream",
     "text": [
      "\n",
      "******************************************************************************\n",
      "This program contains Ipopt, a library for large-scale nonlinear optimization.\n",
      " Ipopt is released as open source code under the Eclipse Public License (EPL).\n",
      "         For more information visit https://github.com/coin-or/Ipopt\n",
      "******************************************************************************\n",
      "\n"
     ]
    }
   ],
   "source": [
    "model = space_Shuttle_JMP(\"trapezoidal\")\n",
    "set_silent(model)\n",
    "set_optimizer(model,Ipopt.Optimizer)\n",
    "set_optimizer_attribute(model,\"linear_solver\", \"mumps\")\n",
    "b = @benchmark optimize!(model) evals=1 samples=1\n",
    "push!(results,[\"Ipopt + MUMPS\",\n",
    "                prettytime(b.times[1]),\n",
    "                round(objective_value(model) |> rad2deg;digits=7),\n",
    "                solution_summary(model).barrier_iterations\n",
    "                ]);"
   ]
  },
  {
   "cell_type": "markdown",
   "metadata": {},
   "source": [
    "#### 2. HSL_MA57"
   ]
  },
  {
   "cell_type": "code",
   "execution_count": 3,
   "metadata": {},
   "outputs": [],
   "source": [
    "import HSL_jll\n",
    "model = space_Shuttle_JMP(\"trapezoidal\")\n",
    "set_silent(model)\n",
    "set_optimizer(model,Ipopt.Optimizer)\n",
    "set_attribute(model, \"hsllib\", HSL_jll.libhsl_path)\n",
    "set_attribute(model, \"linear_solver\", \"ma57\")\n",
    "b = @benchmark optimize!(model) evals=1 samples=1\n",
    "push!(results,[\"Ipopt + HSL_MA57\",\n",
    "                prettytime(b.times[1]),\n",
    "                round(objective_value(model) |> rad2deg;digits=7),\n",
    "                solution_summary(model).barrier_iterations\n",
    "                ]);"
   ]
  },
  {
   "cell_type": "markdown",
   "metadata": {},
   "source": [
    "#### 3. HSL_MA27"
   ]
  },
  {
   "cell_type": "code",
   "execution_count": 4,
   "metadata": {},
   "outputs": [],
   "source": [
    "import HSL_jll\n",
    "model = space_Shuttle_JMP(\"trapezoidal\")\n",
    "set_silent(model)\n",
    "set_optimizer(model,Ipopt.Optimizer)\n",
    "set_attribute(model, \"hsllib\", HSL_jll.libhsl_path)\n",
    "set_attribute(model, \"linear_solver\", \"ma27\")\n",
    "b = @benchmark optimize!(model) evals=1 samples=1\n",
    "push!(results,[\"Ipopt + HSL_MA27\",\n",
    "                prettytime(b.times[1]),\n",
    "                round(objective_value(model) |> rad2deg;digits=7),\n",
    "                solution_summary(model).barrier_iterations\n",
    "                ]);"
   ]
  },
  {
   "cell_type": "markdown",
   "metadata": {},
   "source": [
    "## 2. Comparing Nonlinear Solvers : Ipopt, MadNLP and Knitro <a id=\"nls\"></a>"
   ]
  },
  {
   "cell_type": "markdown",
   "metadata": {},
   "source": [
    "#### 1. Ipopt"
   ]
  },
  {
   "cell_type": "markdown",
   "metadata": {},
   "source": [
    "The results for the Ipopt solver are found in the first part."
   ]
  },
  {
   "cell_type": "markdown",
   "metadata": {},
   "source": [
    "#### 2. MadNLP"
   ]
  },
  {
   "cell_type": "code",
   "execution_count": null,
   "metadata": {},
   "outputs": [],
   "source": [
    "using  MadNLP\n",
    "model = space_Shuttle_JMP(\"trapezoidal\");\n",
    "set_silent(model)\n",
    "set_optimizer(model,MadNLP.Optimizer) #default linear solver : Umfpack\n",
    "b = @benchmark optimize!(model) evals=1 samples=1\n",
    "push!(results,[\"MadNLP + Umfpack\",\n",
    "                prettytime(b.times[1]),\n",
    "                round(objective_value(model) |> rad2deg;digits=7),\n",
    "                solution_summary(model).barrier_iterations\n",
    "                ]);\n",
    "# ~5mn"
   ]
  },
  {
   "cell_type": "markdown",
   "metadata": {},
   "source": [
    "> the problem for not finding the same solutions with Ipopt + HSL_MA57 and MadNLP comes from the linear solvers used . MadNLP uses Umfpack by default, while we use other linear solvers."
   ]
  },
  {
   "cell_type": "code",
   "execution_count": 6,
   "metadata": {},
   "outputs": [
    {
     "name": "stdout",
     "output_type": "stream",
     "text": [
      "Final latitude θ = 34.1411659°\n"
     ]
    }
   ],
   "source": [
    "using  MadNLP\n",
    "using MadNLPHSL\n",
    "model = space_Shuttle_JMP(\"trapezoidal\");\n",
    "set_silent(model)\n",
    "set_optimizer(model,()->MadNLP.Optimizer(linear_solver=Ma57Solver))\n",
    "b = @benchmark optimize!(model) evals=1 samples=1\n",
    "println(\n",
    "    \"Final latitude θ = \",\n",
    "    round(objective_value(model) |> rad2deg;digits=7),\n",
    "    \"°\",\n",
    ")\n",
    "push!(results,[ \"MadNLP + HSL_MA57\",\n",
    "                prettytime(b.times[1]),\n",
    "                round(objective_value(model) |> rad2deg;digits=7),\n",
    "                solution_summary(model).barrier_iterations\n",
    "                ]);"
   ]
  },
  {
   "cell_type": "markdown",
   "metadata": {},
   "source": [
    "#### 3. Knitro"
   ]
  },
  {
   "cell_type": "code",
   "execution_count": 7,
   "metadata": {},
   "outputs": [],
   "source": [
    "using KNITRO\n",
    "model = space_Shuttle_JMP(\"trapezoidal\");\n",
    "set_silent(model)\n",
    "set_optimizer(model,KNITRO.Optimizer);\n",
    "set_attribute(model, \"algorithm\", 4);\n",
    "b = @benchmark optimize!(model) evals=1 samples=1\n",
    "push!(results,[ \"KNITRO_SQP\",\n",
    "                prettytime(b.times[1]),\n",
    "                round(objective_value(model) |> rad2deg;digits=7),\n",
    "                solution_summary(model).barrier_iterations\n",
    "                ]);"
   ]
  },
  {
   "cell_type": "code",
   "execution_count": null,
   "metadata": {},
   "outputs": [],
   "source": [
    "using KNITRO\n",
    "model = space_Shuttle_JMP(\"trapezoidal\");\n",
    "set_silent(model)\n",
    "set_optimizer(model,KNITRO.Optimizer);\n",
    "set_attribute(model, \"algorithm\", 1);\n",
    "b = @benchmark optimize!(model) evals=1 samples=1\n",
    "push!(results,[ \"KNITRO_IPM\",\n",
    "                prettytime(b.times[1]),\n",
    "                round(objective_value(model) |> rad2deg;digits=7),\n",
    "                solution_summary(model).barrier_iterations\n",
    "                ]);"
   ]
  },
  {
   "cell_type": "markdown",
   "metadata": {},
   "source": [
    "> #### Knitro does not solve the problem: more than 1000 iterations and 15 minutes of execution time."
   ]
  },
  {
   "cell_type": "markdown",
   "metadata": {},
   "source": [
    "## 1. Results <a id=\"res\"></a>"
   ]
  },
  {
   "cell_type": "code",
   "execution_count": 23,
   "metadata": {},
   "outputs": [
    {
     "name": "stdout",
     "output_type": "stream",
     "text": [
      "╭───────────────────┬───────────────┬─────────────────┬────────────╮\n",
      "│\u001b[33;1m            Method \u001b[0m│\u001b[33;1m    Total Time \u001b[0m│\u001b[33;1m Objective Value \u001b[0m│\u001b[33;1m Iterations \u001b[0m│\n",
      "├───────────────────┼───────────────┼─────────────────┼────────────┤\n",
      "│     Ipopt + MUMPS │  13.5869269 s │      34.1411822 │        124 │\n",
      "│  Ipopt + HSL_MA57 │   9.2184755 s │      34.1411822 │        124 │\n",
      "│  Ipopt + HSL_MA27 │   8.0530951 s │      34.1411822 │        124 │\n",
      "│  MadNLP + Umfpack │ 118.9959937 s │\u001b[31;1m      34.1161134 \u001b[0m│       1732 │\n",
      "│ MadNLP + HSL_MA57 │  12.4442198 s │\u001b[31m      34.1411659 \u001b[0m│        210 │\n",
      "╰───────────────────┴───────────────┴─────────────────┴────────────╯\n"
     ]
    }
   ],
   "source": [
    "using PrettyTables\n",
    "using Colors\n",
    "# Define the custom display function\n",
    "hl_v1 = Highlighter(\n",
    "           (results, i, j) -> (j == 3) && (round(results[i, j],digits=4) != 34.1412),\n",
    "           crayon\"red bold\"\n",
    "       );\n",
    "hl_v2 = Highlighter(\n",
    "            (results, i, j) -> (j == 3) && (results[i, j] != 34.1411822),\n",
    "            crayon\"red\"\n",
    "        );\n",
    "header = [\"Method\", \"Total Time\", \"Objective Value\", \"Iterations\"];\n",
    "# Apply the custom display function to the :objective_value column\n",
    "pretty_table(\n",
    "    results;\n",
    "    formatters    = ft_printf(\"%.7f\", 2:3),\n",
    "    header        = header,\n",
    "    header_crayon = crayon\"yellow bold\",\n",
    "    highlighters  = (hl_v1, hl_v2),\n",
    "    tf            = tf_unicode_rounded\n",
    ")"
   ]
  }
 ],
 "metadata": {
  "kernelspec": {
   "display_name": "Julia 1.9.3",
   "language": "julia",
   "name": "julia-1.9"
  },
  "language_info": {
   "file_extension": ".jl",
   "mimetype": "application/julia",
   "name": "julia",
   "version": "1.9.3"
  }
 },
 "nbformat": 4,
 "nbformat_minor": 2
}
