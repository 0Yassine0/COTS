{
 "cells": [
  {
   "cell_type": "markdown",
   "metadata": {},
   "source": [
    "<div style=\"width:90%;\n",
    "            margin:10px;\n",
    "            padding:8px;\n",
    "            border:2px solid #FF0000;\n",
    "            border-radius:20px;\n",
    "            font-weight:bold;\n",
    "            font-size:2.5em;\n",
    "            text-align:center;\">\n",
    "JuMP benchmark : Best Linear solver, backend and solver\n",
    "\n",
    "<div style =\"width:90%;\n",
    "            font-size:0.75em;\n",
    "            text-align:center;\">\n",
    " <i>For Goddard Rocket Problem</i></div>\n",
    "</div>"
   ]
  },
  {
   "cell_type": "markdown",
   "metadata": {},
   "source": [
    "<div style=\"width:90%;\n",
    "            margin:9px;\n",
    "            font-size:1em;\">\n",
    "            \n",
    "We will compare the performance of different linear solvers, backends and solvers for the Goddard Rocket Problem using JuMP. The Goddard Rocket Problem is a classic optimal control problem where the goal is to maximize the final altitude of a rocket by controlling the thrust. \n",
    "\n",
    "1. [Linear solvers](#linear-solvers)\n",
    "2. [Backends](#backends)\n",
    "3. [Solvers](#solvers)\n",
    "\n",
    "</div>"
   ]
  },
  {
   "cell_type": "markdown",
   "metadata": {},
   "source": [
    "Importing the necessary packages and defining the problem\n",
    "\n"
   ]
  },
  {
   "cell_type": "code",
   "execution_count": 1,
   "metadata": {},
   "outputs": [],
   "source": [
    "using JuMP\n",
    "include(\"../Problems/JuMP/rocket_JMP.jl\")\n",
    "include(\"./linear_solver_variant.jl\")\n",
    "include(\"./backend_variant.jl\")\n",
    "include(\"./solver_variant.jl\")\n",
    "include(\"./utils.jl\")\n",
    "JuMPModel = rocket_JMP();\n",
    "\n",
    "set_silent(JuMPModel)\n",
    "set_optimizer(JuMPModel,Ipopt.Optimizer)\n",
    "set_optimizer_attribute(JuMPModel,\"tol\",1e-8)\n",
    "set_optimizer_attribute(JuMPModel,\"constr_viol_tol\",1e-6)\n",
    "set_optimizer_attribute(JuMPModel,\"max_iter\",1000)"
   ]
  },
  {
   "cell_type": "markdown",
   "metadata": {},
   "source": [
    "## 1. Linear solver <a id='linear-solvers'></a>"
   ]
  },
  {
   "cell_type": "code",
   "execution_count": 2,
   "metadata": {},
   "outputs": [
    {
     "name": "stdout",
     "output_type": "stream",
     "text": [
      "Using Ipopt Solver :\n",
      "Solving With MUMPS...\n",
      "******************************************************************************\n",
      "This program contains Ipopt, a library for large-scale nonlinear optimization.\n",
      " Ipopt is released as open source code under the Eclipse Public License (EPL).\n",
      "         For more information visit https://github.com/coin-or/Ipopt\n",
      "******************************************************************************\n",
      "\n",
      "✅\n",
      "\n",
      "Solving With HSLMA57...✅\n",
      "\n",
      "Solving With HSLMA27...✅\n",
      "\n",
      "\u001b[34m-------------------------Results of Linear Solvers-------------------------\u001b[39m\n",
      "\u001b[1m3×4 DataFrame\u001b[0m\n",
      "\u001b[1m Row \u001b[0m│\u001b[1m method  \u001b[0m\u001b[1m diff_auto_time \u001b[0m\u001b[1m total_time  \u001b[0m\u001b[1m objective_value \u001b[0m\n",
      "     │\u001b[90m String  \u001b[0m\u001b[90m Float64        \u001b[0m\u001b[90m String      \u001b[0m\u001b[90m Float64         \u001b[0m\n",
      "─────┼───────────────────────────────────────────────────────\n",
      "   1 │ HSLMA27           0.013  14.57925 ms          1.01283\n",
      "   2 │ HSLMA57           0.043  15.4505 ms           1.01283\n",
      "   3 │ MUMPS             0.023  25.59695 ms          1.01283\n"
     ]
    }
   ],
   "source": [
    "sl_results,best_ls = linear_solver_variant(JuMPModel);"
   ]
  },
  {
   "cell_type": "code",
   "execution_count": 3,
   "metadata": {},
   "outputs": [
    {
     "name": "stdout",
     "output_type": "stream",
     "text": [
      "Picking the best linear solver: \n",
      "The best linear solver is HSLMA27\n"
     ]
    }
   ],
   "source": [
    "println(\"Picking the best linear solver: \")\n",
    "if best_ls == \"HSLMA27\" \n",
    "    println(\"The best linear solver is HSLMA27\")\n",
    "    set_attribute(JuMPModel, \"hsllib\", HSL_jll.libhsl_path)\n",
    "    set_attribute(JuMPModel, \"linear_solver\", \"ma27\")\n",
    "elseif best_ls == \"HSLMA57\"\n",
    "    println(\"The best linear solver is HSLMA57\")\n",
    "    set_attribute(JuMPModel, \"hsllib\", HSL_jll.libhsl_path)\n",
    "    set_attribute(JuMPModel, \"linear_solver\", \"ma57\")\n",
    "elseif best_ls == \"MUMPS\"\n",
    "    println(\"The best linear solver is MUMPS\")\n",
    "    set_attribute(JuMPModel, \"linear_solver\", \"mumps\")\n",
    "end"
   ]
  },
  {
   "cell_type": "markdown",
   "metadata": {},
   "source": [
    "## 2. Backends <a id='backends'></a>"
   ]
  },
  {
   "cell_type": "code",
   "execution_count": 4,
   "metadata": {},
   "outputs": [
    {
     "name": "stdout",
     "output_type": "stream",
     "text": [
      "Solving With : ExaModels...✅\n",
      "\n",
      "Solving With : JuMPDefault (MathOptInterface.Nonlinear.SparseReverseMode())...✅\n",
      "\n",
      "Solving With : SymbolicAD (MathOptSymbolicAD.DefaultBackend())...✅\n",
      "\n",
      "\u001b[34m-------------------------Results of Backends-------------------------\u001b[39m\n",
      "\u001b[1m3×4 DataFrame\u001b[0m\n",
      "\u001b[1m Row \u001b[0m│\u001b[1m method      \u001b[0m\u001b[1m diff_auto_time \u001b[0m\u001b[1m total_time \u001b[0m\u001b[1m objective_value \u001b[0m\n",
      "     │\u001b[90m String      \u001b[0m\u001b[90m Float64        \u001b[0m\u001b[90m String     \u001b[0m\u001b[90m Float64         \u001b[0m\n",
      "─────┼──────────────────────────────────────────────────────────\n",
      "   1 │ JuMPDefault     0.000999928  14.6743 ms          1.01283\n",
      "   2 │ SymbolicAD      0.017        17.3123 ms          1.01283\n",
      "   3 │ ExaModels       0.019        22.0281 ms          1.01283\n"
     ]
    }
   ],
   "source": [
    "be_results, best_backend = backend_variant(JuMPModel);"
   ]
  },
  {
   "cell_type": "code",
   "execution_count": 6,
   "metadata": {},
   "outputs": [
    {
     "name": "stdout",
     "output_type": "stream",
     "text": [
      "Picking the best backend: \n",
      "The best backend is JuMPDefault\n"
     ]
    }
   ],
   "source": [
    "println(\"Picking the best backend: \")\n",
    "if best_backend == \"SymbolicAD\" \n",
    "    println(\"The best backend is SymbolicAD\")\n",
    "    set_attribute(JuMPModel,\n",
    "            MOI.AutomaticDifferentiationBackend(),\n",
    "            MathOptSymbolicAD.DefaultBackend(),)\n",
    "elseif best_backend == \"JuMPDefault\"\n",
    "    println(\"The best backend is JuMPDefault\")\n",
    "    set_attribute(JuMPModel,\n",
    "            MOI.AutomaticDifferentiationBackend(),\n",
    "            MOI.Nonlinear.SparseReverseMode(),)\n",
    "elseif best_backend == \"ExaModels\"\n",
    "    println(\"The best linear solver is ExaModels\")\n",
    "    println(\"ExaModels works only with ipopt and madnlp solvers\")\n",
    "    println(\"For the sake of the rest of the benchmark, we'll use the 2nd best backend $((be_results[!,1])[2])\")\n",
    "    second_best_backend = (be_results[!,1])[2]\n",
    "    if second_best_backend == \"SymbolicAD\" \n",
    "        set_attribute(JuMPModel,\n",
    "                MOI.AutomaticDifferentiationBackend(),\n",
    "                MathOptSymbolicAD.DefaultBackend(),)\n",
    "    elseif second_best_backend == \"JuMPDefault\"\n",
    "        set_attribute(JuMPModel,\n",
    "                MOI.AutomaticDifferentiationBackend(),\n",
    "                MOI.Nonlinear.SparseReverseMode(),)\n",
    "    end\n",
    "end"
   ]
  },
  {
   "cell_type": "markdown",
   "metadata": {},
   "source": [
    "## 3. Solvers <a id='solvers'></a>"
   ]
  },
  {
   "cell_type": "code",
   "execution_count": 7,
   "metadata": {},
   "outputs": [
    {
     "name": "stdout",
     "output_type": "stream",
     "text": [
      "Solving With Ipopt...✅\n",
      "\n",
      "Solving With MadNLP...✅\n",
      "\n",
      "Solving With KNITRO_SQP...✅\n",
      "\n",
      "Solving With KNITRO_IPM...✅\n",
      "\n",
      "\u001b[34m-------------------------Results of Solvers-------------------------\u001b[39m\n",
      "\u001b[1m4×4 DataFrame\u001b[0m\n",
      "\u001b[1m Row \u001b[0m│\u001b[1m method     \u001b[0m\u001b[1m diff_auto_time \u001b[0m\u001b[1m total_time \u001b[0m\u001b[1m objective_value \u001b[0m\n",
      "     │\u001b[90m String     \u001b[0m\u001b[90m Float64        \u001b[0m\u001b[90m String     \u001b[0m\u001b[90m Float64         \u001b[0m\n",
      "─────┼─────────────────────────────────────────────────────────\n",
      "   1 │ KNITRO_SQP       0.0        393.2 μs            1.01283\n",
      "   2 │ KNITRO_IPM       0.0        690.65 μs           1.01283\n",
      "   3 │ Ipopt            0.0220001  24.7043 ms          1.01283\n",
      "   4 │ MadNLP           0.0470002  39.7297 ms          1.01283\n"
     ]
    }
   ],
   "source": [
    "s_results,best_s = solver_variant(JuMPModel);"
   ]
  },
  {
   "cell_type": "code",
   "execution_count": 8,
   "metadata": {},
   "outputs": [
    {
     "name": "stdout",
     "output_type": "stream",
     "text": [
      "Picking the best solver: \n",
      "The best solver is KNITRO_SQP\n"
     ]
    }
   ],
   "source": [
    "println(\"Picking the best solver: \")\n",
    "if best_s == \"KNITRO_IPM\" \n",
    "    println(\"The best solver is KNITRO_IPM\")\n",
    "    set_optimizer(JuMPModel,KNITRO.Optimizer);\n",
    "    set_attribute(JuMPModel, \"algorithm\", 1);\n",
    "elseif best_s == \"Ipopt\"\n",
    "    println(\"The best solver is Ipopt\")\n",
    "    set_optimizer(JuMPModel,Ipopt.Optimizer);\n",
    "elseif best_s == \"MadNLP\"\n",
    "    println(\"The best solver is MadNLP\")\n",
    "    set_optimizer(JuMPModel,MadNLP.Optimizer);\n",
    "elseif best_s == \"KNITRO_SQP\"\n",
    "    println(\"The best solver is KNITRO_SQP\")\n",
    "    set_optimizer(JuMPModel,KNITRO.Optimizer);\n",
    "    set_attribute(JuMPModel, \"algorithm\", 4);\n",
    "end"
   ]
  },
  {
   "cell_type": "code",
   "execution_count": 1,
   "metadata": {},
   "outputs": [
    {
     "name": "stdout",
     "output_type": "stream",
     "text": [
      "Solving With KNITRO_IPM...✅\n",
      "\n"
     ]
    }
   ],
   "source": [
    "using JuMP, Ipopt, MadNLP, KNITRO\n",
    "using KNITRO\n",
    "include(\"../Problems/JuMP/rocket_JMP.jl\")\n",
    "include(\"./linear_solver_variant.jl\")\n",
    "include(\"./backend_variant.jl\")\n",
    "include(\"./solver_variant.jl\")\n",
    "include(\"./utils.jl\")\n"
   ]
  },
  {
   "cell_type": "code",
   "execution_count": 2,
   "metadata": {},
   "outputs": [
    {
     "name": "stdout",
     "output_type": "stream",
     "text": [
      "Solving With KNITRO_IPM...\n",
      "=======================================\n",
      "             Trial License\n",
      "       (NOT FOR COMMERCIAL USE)\n",
      "         Artelys Knitro 14.0.0\n",
      "=======================================\n",
      "\n",
      "Knitro presolve eliminated 4 variables and 4 constraints.\n",
      "\n",
      "algorithm:               1\n",
      "datacheck:               0\n",
      "hessian_no_f:            1\n",
      "numthreads:              1\n",
      "Knitro fixing 4 variables eliminated from the presolve.\n",
      "\n",
      "Problem Characteristics                                 (   Presolved)\n",
      "-----------------------\n",
      "Objective goal:  Maximize\n",
      "Objective type:  linear\n",
      "Number of variables:                                405 (         401)\n",
      "    bounded below only:                             203 (         201)\n",
      "    bounded above only:                               0 (           0)\n",
      "    bounded below and above:                        202 (         200)\n",
      "    fixed:                                            0 (           0)\n",
      "    free:                                             0 (           0)\n",
      "Number of constraints:                              304 (         300)\n",
      "    linear equalities:                                4 (           0)\n",
      "    quadratic equalities:                           200 (         200)\n",
      "    gen. nonlinear equalities:                      100 (         100)\n",
      "    linear one-sided inequalities:                    0 (           0)\n",
      "    quadratic one-sided inequalities:                 0 (           0)\n",
      "    gen. nonlinear one-sided inequalities:            0 (           0)\n",
      "    linear two-sided inequalities:                    0 (           0)\n",
      "    quadratic two-sided inequalities:                 0 (           0)\n",
      "    gen. nonlinear two-sided inequalities:            0 (           0)\n",
      "Number of nonzeros in Jacobian:                    1904 (        1892)\n",
      "Number of nonzeros in Hessian:                     3015 (        2982)\n",
      "\n",
      "Knitro using the Interior-Point/Barrier Direct algorithm.\n",
      "\n",
      "  Iter      Objective      FeasError   OptError    ||Step||    CGits \n",
      "--------  --------------  ----------  ----------  ----------  -------\n",
      "       0    1.000000e+00   2.313e-01\n",
      "      10    1.008806e+00   3.457e-04   1.762e-03   3.331e-02        0\n",
      "      20    1.010859e+00   9.399e-05   1.531e-03   6.813e-01        0\n",
      "      30    1.012746e+00   4.503e-05   4.276e-03   1.532e+00        0\n",
      "      34    1.012832e+00   9.027e-08   2.862e-07   2.096e-01        0\n",
      "\n",
      "EXIT: Locally optimal solution found.\n",
      "\n",
      "Final Statistics\n",
      "----------------\n",
      "Final objective value               =   1.01283201368575e+00\n",
      "Final feasibility error (abs / rel) =   9.03e-08 / 9.03e-08\n",
      "Final optimality error  (abs / rel) =   2.86e-07 / 2.86e-07\n",
      "# of iterations                     =         34 \n",
      "# of CG iterations                  =          0 \n",
      "# of function evaluations           =         38\n",
      "# of gradient evaluations           =         36\n",
      "# of Hessian evaluations            =         34\n",
      "Total program time (secs)           =       0.051 (     0.016 CPU time)\n",
      "Time spent in evaluations (secs)    =       0.020\n",
      "\n",
      "===============================================================================\n",
      "\n"
     ]
    }
   ],
   "source": [
    "JuMPModel = rocket_JMP();\n",
    "\n",
    "set_optimizer_attribute(JuMPModel,\"tol\",1e-8)\n",
    "set_optimizer_attribute(JuMPModel,\"constr_viol_tol\",1e-6)\n",
    "set_optimizer_attribute(JuMPModel,\"max_iter\",1000)\n",
    "    print(\"Solving With KNITRO_IPM...\")\n",
    "    set_optimizer(JuMPModel,KNITRO.Optimizer);\n",
    "    set_attribute(JuMPModel, \"algorithm\", 1);\n",
    "optimize!(JuMPModel)"
   ]
  },
  {
   "cell_type": "code",
   "execution_count": 12,
   "metadata": {},
   "outputs": [
    {
     "data": {
      "text/plain": [
       "0.015625"
      ]
     },
     "metadata": {},
     "output_type": "display_data"
    }
   ],
   "source": [
    "\n",
    "import MathOptInterface\n",
    "MOI.get(JuMPModel, MOI.SolveTimeSec())\n"
   ]
  }
 ],
 "metadata": {
  "kernelspec": {
   "display_name": "Julia 1.9.3",
   "language": "julia",
   "name": "julia-1.9"
  },
  "language_info": {
   "file_extension": ".jl",
   "mimetype": "application/julia",
   "name": "julia",
   "version": "1.9.3"
  }
 },
 "nbformat": 4,
 "nbformat_minor": 2
}
