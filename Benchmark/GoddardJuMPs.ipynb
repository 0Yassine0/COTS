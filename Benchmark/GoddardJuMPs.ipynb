{
 "cells": [
  {
   "cell_type": "markdown",
   "metadata": {},
   "source": [
    "# Goddard Rocket Problem"
   ]
  },
  {
   "cell_type": "code",
   "execution_count": 1,
   "metadata": {},
   "outputs": [],
   "source": [
    "ENV[\"TICKTOCK_MESSAGES\"] = false;"
   ]
  },
  {
   "cell_type": "markdown",
   "metadata": {},
   "source": [
    "**Remarques** \n",
    "> Il faut l'executer une premiere fois pour pas prendre en compte le temps d'import des librairies.\n",
    "\n",
    "> MOI.AutomaticDifferentiationBackend() n'est pas supporté par KNITRO"
   ]
  },
  {
   "cell_type": "code",
   "execution_count": 2,
   "metadata": {},
   "outputs": [],
   "source": [
    "using JuMP\n",
    "include(\"../Problems/JuMP/rocket_JMP.jl\")\n",
    "include(\"./linear_solver_variant.jl\")\n",
    "include(\"./backend_variant.jl\")\n",
    "include(\"./solver_variant.jl\")\n",
    "JuMPModel = rocket_JMP();\n",
    "\n",
    "set_silent(JuMPModel)\n",
    "set_optimizer(JuMPModel,Ipopt.Optimizer)\n",
    "set_optimizer_attribute(JuMPModel,\"tol\",1e-8)\n",
    "set_optimizer_attribute(JuMPModel,\"constr_viol_tol\",1e-6)\n",
    "set_optimizer_attribute(JuMPModel,\"max_iter\",1000)"
   ]
  },
  {
   "cell_type": "markdown",
   "metadata": {},
   "source": [
    "## Linear solver"
   ]
  },
  {
   "cell_type": "code",
   "execution_count": null,
   "metadata": {},
   "outputs": [],
   "source": [
    "sl_results,best_ls, plot_ls = linear_solver_variant(JuMPModel);"
   ]
  },
  {
   "cell_type": "code",
   "execution_count": null,
   "metadata": {},
   "outputs": [],
   "source": [
    "if best_ls[1] == \"Ipopt : HSLMA27\" \n",
    "    println(\"The best linear solver is HSLMA27\")\n",
    "    set_attribute(JuMPModel, \"hsllib\", HSL_jll.libhsl_path)\n",
    "    set_attribute(JuMPModel, \"linear_solver\", \"ma27\")\n",
    "elseif best_ls[1] == \"Ipopt : HSLMA57\"\n",
    "    println(\"The best linear solver is HSLMA57\")\n",
    "    set_attribute(JuMPModel, \"hsllib\", HSL_jll.libhsl_path)\n",
    "    set_attribute(JuMPModel, \"linear_solver\", \"ma57\")\n",
    "elseif best_ls[1] == \"Ipopt : MUMPS\"\n",
    "    println(\"The best linear solver is MUMPS\")\n",
    "    set_attribute(JuMPModel, \"linear_solver\", \"mumps\")\n",
    "end"
   ]
  },
  {
   "cell_type": "markdown",
   "metadata": {},
   "source": [
    "## Backend"
   ]
  },
  {
   "cell_type": "code",
   "execution_count": 3,
   "metadata": {},
   "outputs": [
    {
     "name": "stdout",
     "output_type": "stream",
     "text": [
      "Solving With : JuMPDefault (MathOptInterface.Nonlinear.SparseReverseMode())\n",
      "\n",
      "******************************************************************************\n",
      "This program contains Ipopt, a library for large-scale nonlinear optimization.\n",
      " Ipopt is released as open source code under the Eclipse Public License (EPL).\n",
      "         For more information visit https://github.com/coin-or/Ipopt\n",
      "******************************************************************************\n",
      "\n",
      "\n",
      "Solving With : SymbolicAD (MathOptSymbolicAD.DefaultBackend())\n",
      "\n",
      "Solving With : ExaModels\n",
      "\n",
      "Results of Backends :\n",
      "\u001b[1m3×4 DataFrame\u001b[0m\n",
      "\u001b[1m Row \u001b[0m│\u001b[1m method      \u001b[0m\u001b[1m diff_auto_time \u001b[0m\u001b[1m total_time \u001b[0m\u001b[1m objective_value \u001b[0m\n",
      "     │\u001b[90m String      \u001b[0m\u001b[90m Float64        \u001b[0m\u001b[90m Float64    \u001b[0m\u001b[90m Float64         \u001b[0m\n",
      "─────┼──────────────────────────────────────────────────────────\n",
      "   1 │ SymbolicAD        0.0280001   0.0282952          1.01283\n",
      "   2 │ ExaModels         1.563       2.0659             1.01283\n",
      "   3 │ JuMPDefault       0.823       2.24173            1.01283\n"
     ]
    }
   ],
   "source": [
    "be_results, best_backend = backend_variant(JuMPModel);"
   ]
  },
  {
   "cell_type": "code",
   "execution_count": 4,
   "metadata": {},
   "outputs": [
    {
     "name": "stdout",
     "output_type": "stream",
     "text": [
      "The best backend is SymbolicAD\n"
     ]
    }
   ],
   "source": [
    "if best_backend == \"SymbolicAD\" \n",
    "    println(\"The best backend is SymbolicAD\")\n",
    "    set_attribute(JuMPModel,\n",
    "            MOI.AutomaticDifferentiationBackend(),\n",
    "            MathOptSymbolicAD.DefaultBackend(),)\n",
    "elseif best_backend == \"JuMPDefault\"\n",
    "    println(\"The best backend is JuMPDefault\")\n",
    "    set_attribute(JuMPModel,\n",
    "            MOI.AutomaticDifferentiationBackend(),\n",
    "            MOI.Nonlinear.SparseReverseMode(),)\n",
    "elseif best_backend == \"ExaModels\"\n",
    "    println(\"The best linear solver is ExaModels\")\n",
    "    println(\"ExaModels works only with ipopt and madnlp solvers\")\n",
    "    println(\"For the sake of the rest of the benchmark, we'll use the 2nd best backend $((be_results[!,1])[2])\")\n",
    "    second_best_backend = (be_results[!,1])[2]\n",
    "    if second_best_backend == \"SymbolicAD\" \n",
    "        set_attribute(JuMPModel,\n",
    "                MOI.AutomaticDifferentiationBackend(),\n",
    "                MathOptSymbolicAD.DefaultBackend(),)\n",
    "    elseif second_best_backend == \"JuMPDefault\"\n",
    "        set_attribute(JuMPModel,\n",
    "                MOI.AutomaticDifferentiationBackend(),\n",
    "                MOI.Nonlinear.SparseReverseMode(),)\n",
    "    end\n",
    "end"
   ]
  },
  {
   "cell_type": "markdown",
   "metadata": {},
   "source": [
    "## solver "
   ]
  },
  {
   "cell_type": "code",
   "execution_count": 5,
   "metadata": {},
   "outputs": [
    {
     "name": "stdout",
     "output_type": "stream",
     "text": [
      "Solving With Ipopt\n",
      "\n",
      "Solving With MadNLP\n",
      "\n",
      "Solving With KNITRO_SQP \n",
      "\n",
      "Solving With KNITRO_IPM \n",
      "\n",
      "Results of Solvers :\n",
      "\u001b[1m4×4 DataFrame\u001b[0m\n",
      "\u001b[1m Row \u001b[0m│\u001b[1m method     \u001b[0m\u001b[1m diff_auto_time \u001b[0m\u001b[1m total_time \u001b[0m\u001b[1m objective_value \u001b[0m\n",
      "     │\u001b[90m String     \u001b[0m\u001b[90m Float64        \u001b[0m\u001b[90m Float64    \u001b[0m\u001b[90m Float64         \u001b[0m\n",
      "─────┼─────────────────────────────────────────────────────────\n",
      "   1 │ KNITRO_IPM        0.0         0.052718          1.01283\n",
      "   2 │ KNITRO_SQP        0.140625    2.58228           1.01283\n",
      "   3 │ Ipopt            15.525      15.5272            1.01283\n",
      "   4 │ MadNLP            8.504      15.6594            1.01283\n"
     ]
    }
   ],
   "source": [
    "s_results,best_s = solver_variant(JuMPModel);"
   ]
  },
  {
   "cell_type": "code",
   "execution_count": 6,
   "metadata": {},
   "outputs": [
    {
     "name": "stdout",
     "output_type": "stream",
     "text": [
      "The best solver is KNITRO_IPM\n"
     ]
    }
   ],
   "source": [
    "if best_s == \"KNITRO_IPM\" \n",
    "    println(\"The best solver is KNITRO_IPM\")\n",
    "    set_optimizer(JuMPModel,KNITRO.Optimizer);\n",
    "    set_attribute(JuMPModel, \"algorithm\", 1);\n",
    "elseif best_s == \"Ipopt\"\n",
    "    println(\"The best solver is Ipopt\")\n",
    "    set_optimizer(JuMPModel,Ipopt.Optimizer);\n",
    "elseif best_s == \"MadNLP\"\n",
    "    println(\"The best solver is MadNLP\")\n",
    "    set_optimizer(JuMPModel,MadNLP.Optimizer);\n",
    "elseif best_s == \"KNITRO_SQP\"\n",
    "    println(\"The best solver is KNITRO_SQP\")\n",
    "    set_optimizer(JuMPModel,KNITRO.Optimizer);\n",
    "    set_attribute(JuMPModel, \"algorithm\", 4);\n",
    "end"
   ]
  }
 ],
 "metadata": {
  "kernelspec": {
   "display_name": "Julia 1.9.3",
   "language": "julia",
   "name": "julia-1.9"
  },
  "language_info": {
   "file_extension": ".jl",
   "mimetype": "application/julia",
   "name": "julia",
   "version": "1.9.3"
  }
 },
 "nbformat": 4,
 "nbformat_minor": 2
}
