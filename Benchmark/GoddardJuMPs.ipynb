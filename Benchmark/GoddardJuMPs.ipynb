{
 "cells": [
  {
   "cell_type": "markdown",
   "metadata": {},
   "source": [
    "# JuMP benchmark : Best Linear solver, backend and solver\n",
    "## *Goddard Rocket Problem*"
   ]
  },
  {
   "cell_type": "markdown",
   "metadata": {},
   "source": [
    "**Remarques** \n",
    "> MOI.AutomaticDifferentiationBackend() is not supported by KNITRO\n",
    "\n",
    "> With MUMPS, ExaModel is much faster than JuMP ( possible reason : we use `ipopt()` directy while solving an ExaModel while we use `optimize()` with JuMP)"
   ]
  },
  {
   "cell_type": "code",
   "execution_count": 1,
   "metadata": {},
   "outputs": [],
   "source": [
    "using JuMP\n",
    "include(\"../Problems/JuMP/rocket_JMP.jl\")\n",
    "include(\"./linear_solver_variant.jl\")\n",
    "include(\"./backend_variant.jl\")\n",
    "include(\"./solver_variant.jl\")\n",
    "include(\"./utils.jl\")\n",
    "JuMPModel = rocket_JMP();\n",
    "\n",
    "set_silent(JuMPModel)\n",
    "set_optimizer(JuMPModel,Ipopt.Optimizer)\n",
    "set_optimizer_attribute(JuMPModel,\"tol\",1e-8)\n",
    "set_optimizer_attribute(JuMPModel,\"constr_viol_tol\",1e-6)\n",
    "set_optimizer_attribute(JuMPModel,\"max_iter\",1000)"
   ]
  },
  {
   "cell_type": "markdown",
   "metadata": {},
   "source": [
    "## Linear solver"
   ]
  },
  {
   "cell_type": "code",
   "execution_count": 2,
   "metadata": {},
   "outputs": [
    {
     "name": "stdout",
     "output_type": "stream",
     "text": [
      "Using Ipopt Solver :\n",
      "Solving With MUMPS...\n",
      "******************************************************************************\n",
      "This program contains Ipopt, a library for large-scale nonlinear optimization.\n",
      " Ipopt is released as open source code under the Eclipse Public License (EPL).\n",
      "         For more information visit https://github.com/coin-or/Ipopt\n",
      "******************************************************************************\n",
      "\n",
      "✅\n",
      "\n",
      "Solving With HSLMA57...✅\n",
      "\n",
      "Solving With HSLMA27...✅\n",
      "\n",
      "\u001b[34m-------------------------Results of Linear Solvers-------------------------\u001b[39m\n",
      "\u001b[1m3×4 DataFrame\u001b[0m\n",
      "\u001b[1m Row \u001b[0m│\u001b[1m method  \u001b[0m\u001b[1m diff_auto_time \u001b[0m\u001b[1m total_time  \u001b[0m\u001b[1m objective_value \u001b[0m\n",
      "     │\u001b[90m String  \u001b[0m\u001b[90m Float64        \u001b[0m\u001b[90m String      \u001b[0m\u001b[90m Float64         \u001b[0m\n",
      "─────┼───────────────────────────────────────────────────────\n",
      "   1 │ HSLMA57       0.016      14.45005 ms          1.01283\n",
      "   2 │ HSLMA27       0.0149999  15.3946 ms           1.01283\n",
      "   3 │ MUMPS         0.03       27.0203 ms           1.01283\n"
     ]
    }
   ],
   "source": [
    "sl_results,best_ls = linear_solver_variant(JuMPModel);"
   ]
  },
  {
   "cell_type": "code",
   "execution_count": 3,
   "metadata": {},
   "outputs": [
    {
     "name": "stdout",
     "output_type": "stream",
     "text": [
      "The best linear solver is HSLMA57\n"
     ]
    }
   ],
   "source": [
    "if best_ls == \"HSLMA27\" \n",
    "    println(\"The best linear solver is HSLMA27\")\n",
    "    set_attribute(JuMPModel, \"hsllib\", HSL_jll.libhsl_path)\n",
    "    set_attribute(JuMPModel, \"linear_solver\", \"ma27\")\n",
    "elseif best_ls == \"HSLMA57\"\n",
    "    println(\"The best linear solver is HSLMA57\")\n",
    "    set_attribute(JuMPModel, \"hsllib\", HSL_jll.libhsl_path)\n",
    "    set_attribute(JuMPModel, \"linear_solver\", \"ma57\")\n",
    "elseif best_ls == \"MUMPS\"\n",
    "    println(\"The best linear solver is MUMPS\")\n",
    "    set_attribute(JuMPModel, \"linear_solver\", \"mumps\")\n",
    "end"
   ]
  },
  {
   "cell_type": "markdown",
   "metadata": {},
   "source": [
    "## Backend"
   ]
  },
  {
   "cell_type": "code",
   "execution_count": 4,
   "metadata": {},
   "outputs": [
    {
     "name": "stdout",
     "output_type": "stream",
     "text": [
      "Solving With : ExaModels...✅\n",
      "\n",
      "Solving With : JuMPDefault (MathOptInterface.Nonlinear.SparseReverseMode())...✅\n",
      "\n",
      "Solving With : SymbolicAD (MathOptSymbolicAD.DefaultBackend())...✅\n",
      "\n",
      "\u001b[34m-------------------------Results of Backends-------------------------\u001b[39m\n",
      "\u001b[1m3×4 DataFrame\u001b[0m\n",
      "\u001b[1m Row \u001b[0m│\u001b[1m method      \u001b[0m\u001b[1m diff_auto_time \u001b[0m\u001b[1m total_time  \u001b[0m\u001b[1m objective_value \u001b[0m\n",
      "     │\u001b[90m String      \u001b[0m\u001b[90m Float64        \u001b[0m\u001b[90m String      \u001b[0m\u001b[90m Float64         \u001b[0m\n",
      "─────┼───────────────────────────────────────────────────────────\n",
      "   1 │ JuMPDefault       0.0209999  16.1498 ms           1.01283\n",
      "   2 │ SymbolicAD        0.016      16.17595 ms          1.01283\n",
      "   3 │ ExaModels         0.019      23.7479 ms           1.01283\n"
     ]
    }
   ],
   "source": [
    "be_results, best_backend = backend_variant(JuMPModel);"
   ]
  },
  {
   "cell_type": "code",
   "execution_count": 5,
   "metadata": {},
   "outputs": [
    {
     "name": "stdout",
     "output_type": "stream",
     "text": [
      "The best backend is JuMPDefault\n"
     ]
    }
   ],
   "source": [
    "if best_backend == \"SymbolicAD\" \n",
    "    println(\"The best backend is SymbolicAD\")\n",
    "    set_attribute(JuMPModel,\n",
    "            MOI.AutomaticDifferentiationBackend(),\n",
    "            MathOptSymbolicAD.DefaultBackend(),)\n",
    "elseif best_backend == \"JuMPDefault\"\n",
    "    println(\"The best backend is JuMPDefault\")\n",
    "    set_attribute(JuMPModel,\n",
    "            MOI.AutomaticDifferentiationBackend(),\n",
    "            MOI.Nonlinear.SparseReverseMode(),)\n",
    "elseif best_backend == \"ExaModels\"\n",
    "    println(\"The best linear solver is ExaModels\")\n",
    "    println(\"ExaModels works only with ipopt and madnlp solvers\")\n",
    "    println(\"For the sake of the rest of the benchmark, we'll use the 2nd best backend $((be_results[!,1])[2])\")\n",
    "    second_best_backend = (be_results[!,1])[2]\n",
    "    if second_best_backend == \"SymbolicAD\" \n",
    "        set_attribute(JuMPModel,\n",
    "                MOI.AutomaticDifferentiationBackend(),\n",
    "                MathOptSymbolicAD.DefaultBackend(),)\n",
    "    elseif second_best_backend == \"JuMPDefault\"\n",
    "        set_attribute(JuMPModel,\n",
    "                MOI.AutomaticDifferentiationBackend(),\n",
    "                MOI.Nonlinear.SparseReverseMode(),)\n",
    "    end\n",
    "end"
   ]
  },
  {
   "cell_type": "markdown",
   "metadata": {},
   "source": [
    "## solver "
   ]
  },
  {
   "cell_type": "code",
   "execution_count": 6,
   "metadata": {},
   "outputs": [
    {
     "name": "stdout",
     "output_type": "stream",
     "text": [
      "Solving With Ipopt...✅\n",
      "\n",
      "Solving With MadNLP...✅\n",
      "\n",
      "Solving With KNITRO_SQP...✅\n",
      "\n",
      "Solving With KNITRO_IPM...✅\n",
      "\n",
      "\u001b[34m-------------------------Results of Solvers-------------------------\u001b[39m\n",
      "\u001b[1m4×4 DataFrame\u001b[0m\n",
      "\u001b[1m Row \u001b[0m│\u001b[1m method     \u001b[0m\u001b[1m diff_auto_time \u001b[0m\u001b[1m total_time \u001b[0m\u001b[1m objective_value \u001b[0m\n",
      "     │\u001b[90m String     \u001b[0m\u001b[90m Float64        \u001b[0m\u001b[90m String     \u001b[0m\u001b[90m Float64         \u001b[0m\n",
      "─────┼─────────────────────────────────────────────────────────\n",
      "   1 │ KNITRO_SQP       0.0        407.3 μs            1.01283\n",
      "   2 │ KNITRO_IPM       0.0        747.0 μs            1.01283\n",
      "   3 │ Ipopt            0.0380001  30.8041 ms          1.01283\n",
      "   4 │ MadNLP           0.039      45.2078 ms          1.01283\n"
     ]
    }
   ],
   "source": [
    "s_results,best_s = solver_variant(JuMPModel);"
   ]
  },
  {
   "cell_type": "code",
   "execution_count": 7,
   "metadata": {},
   "outputs": [
    {
     "name": "stdout",
     "output_type": "stream",
     "text": [
      "The best solver is KNITRO_SQP\n"
     ]
    }
   ],
   "source": [
    "if best_s == \"KNITRO_IPM\" \n",
    "    println(\"The best solver is KNITRO_IPM\")\n",
    "    set_optimizer(JuMPModel,KNITRO.Optimizer);\n",
    "    set_attribute(JuMPModel, \"algorithm\", 1);\n",
    "elseif best_s == \"Ipopt\"\n",
    "    println(\"The best solver is Ipopt\")\n",
    "    set_optimizer(JuMPModel,Ipopt.Optimizer);\n",
    "elseif best_s == \"MadNLP\"\n",
    "    println(\"The best solver is MadNLP\")\n",
    "    set_optimizer(JuMPModel,MadNLP.Optimizer);\n",
    "elseif best_s == \"KNITRO_SQP\"\n",
    "    println(\"The best solver is KNITRO_SQP\")\n",
    "    set_optimizer(JuMPModel,KNITRO.Optimizer);\n",
    "    set_attribute(JuMPModel, \"algorithm\", 4);\n",
    "end"
   ]
  }
 ],
 "metadata": {
  "kernelspec": {
   "display_name": "Julia 1.9.3",
   "language": "julia",
   "name": "julia-1.9"
  },
  "language_info": {
   "file_extension": ".jl",
   "mimetype": "application/julia",
   "name": "julia",
   "version": "1.9.3"
  }
 },
 "nbformat": 4,
 "nbformat_minor": 2
}
