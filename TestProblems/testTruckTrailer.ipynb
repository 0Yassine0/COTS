{
 "cells": [
  {
   "cell_type": "markdown",
   "metadata": {},
   "source": [
    "<div style=\"width:90%;\n",
    "            margin:10px;\n",
    "            padding:8px;\n",
    "            border:2px solid #FF0000;\n",
    "            border-radius:20px;\n",
    "            font-weight:bold;\n",
    "            font-size:2.5em;\n",
    "            text-align:center;\">\n",
    "The Truck Trailer Problem\n",
    "</div>\n"
   ]
  },
  {
   "cell_type": "markdown",
   "metadata": {},
   "source": [
    "<div style=\"width:90%;\n",
    "            margin:9px;\n",
    "            font-size:1em;\">\n",
    "            \n",
    "*The Truck Trailer Problem:* ...                \n",
    "The problem is inspired from the following paper: [FATROP : A Fast Constrained Optimal Control Problem Solver for Robot Trajectory Optimization and Control](https://arxiv.org/pdf/2303.16746) made for [Casadi](https://web.casadi.org/) software and [Fatrop](https://github.com/meco-group/fatrop) solver.                            \n",
    "We solve the problem using the [JuMP](https://jump.dev/) and [OptimalControl](https://control-toolbox.org/OptimalControl.jl/stable/) packages in Julia then we compare the results.\n",
    "\n",
    "1. [JuMP Formulation](#jump)\n",
    "2. [OptimalControl Formulation](#oc)\n",
    "3. [Comparison](#comp)\n",
    "\n",
    "</div>"
   ]
  },
  {
   "cell_type": "markdown",
   "metadata": {},
   "source": [
    "## 1. Solving with JuMP <a id='jump'></a>"
   ]
  },
  {
   "cell_type": "code",
   "execution_count": 1,
   "metadata": {},
   "outputs": [],
   "source": [
    "using JuMP , Ipopt\n",
    "import HSL_jll\n",
    "include(\"../Problems/JuMP/truck_trailer_JMP.jl\")\n",
    "TruckJMP = truck_JMP();\n",
    "\n",
    "set_optimizer(TruckJMP,Ipopt.Optimizer)\n",
    "set_attribute(TruckJMP, \"print_level\", 5)\n",
    "set_optimizer_attribute(TruckJMP,\"tol\",1e-8)\n",
    "set_optimizer_attribute(TruckJMP,\"constr_viol_tol\",1e-6)\n",
    "set_optimizer_attribute(TruckJMP,\"max_iter\",1000)\n",
    "set_optimizer_attribute(TruckJMP,\"mu_strategy\",\"adaptive\")\n",
    "set_attribute(TruckJMP, \"hsllib\", HSL_jll.libhsl_path)\n",
    "set_attribute(TruckJMP, \"linear_solver\", \"ma57\")"
   ]
  },
  {
   "cell_type": "code",
   "execution_count": 2,
   "metadata": {},
   "outputs": [
    {
     "name": "stdout",
     "output_type": "stream",
     "text": [
      "Solving...\n",
      "\n",
      "******************************************************************************\n",
      "This program contains Ipopt, a library for large-scale nonlinear optimization.\n",
      " Ipopt is released as open source code under the Eclipse Public License (EPL).\n",
      "         For more information visit https://github.com/coin-or/Ipopt\n",
      "******************************************************************************\n",
      "\n",
      "This is Ipopt version 3.14.14, running with linear solver ma57.\n",
      "\n",
      "Number of nonzeros in equality constraint Jacobian...:    10612\n",
      "Number of nonzeros in inequality constraint Jacobian.:     2004\n",
      "Number of nonzeros in Lagrangian Hessian.............:    55005\n",
      "\n",
      "Total number of variables............................:     1408\n",
      "                     variables with only lower bounds:        1\n",
      "                variables with lower and upper bounds:      804\n",
      "                     variables with only upper bounds:        0\n",
      "Total number of equality constraints.................:     1010\n",
      "Total number of inequality constraints...............:      802\n",
      "        inequality constraints with only lower bounds:        0\n",
      "   inequality constraints with lower and upper bounds:      802\n",
      "        inequality constraints with only upper bounds:        0\n",
      "\n",
      "iter    objective    inf_pr   inf_du lg(mu)  ||d||  lg(rg) alpha_du alpha_pr  ls\n",
      "   0  9.9999900e-03 2.00e+00 0.00e+00   0.0 0.00e+00    -  0.00e+00 0.00e+00   0\n",
      "   1  9.8574848e-03 1.01e+00 8.66e+00  -6.1 1.99e+00    -  5.01e-01 4.95e-01h  2\n",
      "   2r 9.8574848e-03 1.01e+00 9.99e+02   0.0 0.00e+00   6.0 0.00e+00 4.31e-07R 19\n",
      "   3r 1.3351328e+00 1.57e+00 2.14e+02   0.2 1.67e+00    -  1.00e+00 7.86e-01f  1\n",
      "   4r 1.2994962e+00 1.54e+00 1.84e+02   0.1 2.64e-01    -  1.00e+00 1.41e-01f  1\n",
      "   5r 7.1020054e-01 1.52e+00 1.70e+01  -0.6 5.74e-01    -  8.06e-01 1.00e+00f  1\n",
      "   6r 5.5784197e-01 1.56e+00 1.80e-01  -1.1 2.13e-01    -  1.00e+00 1.00e+00f  1\n",
      "   7r 4.8975419e-01 3.54e+00 1.59e-01  -2.1 1.07e-01   0.0 1.00e+00 1.00e+00f  1\n",
      "   8r 5.0410715e-01 9.22e+00 3.94e-01  -3.4 1.92e-02   0.4 9.89e-01 1.00e+00f  1\n",
      "   9r 4.9065091e-01 8.04e+00 1.41e+02  -4.4 1.96e-02   0.9 1.00e+00 6.88e-01f  1\n",
      "iter    objective    inf_pr   inf_du lg(mu)  ||d||  lg(rg) alpha_du alpha_pr  ls\n",
      "  10r 4.7067506e-01 5.07e+00 1.92e+01  -5.6 2.25e-02   0.4 1.00e+00 8.89e-01f  1\n",
      "  11r 4.6525675e-01 3.56e+00 7.33e+00  -5.8 5.77e-03   0.8 1.00e+00 9.85e-01f  1\n",
      "  12r 4.6470248e-01 3.32e+00 5.29e+01  -6.0 2.58e-03   1.2 1.00e+00 8.39e-01h  1\n",
      "  13r 4.6575650e-01 3.38e+00 2.78e+02  -6.5 3.18e-03   0.7 1.00e+00 4.21e-01f  1\n",
      "  14r 4.6577140e-01 3.22e+00 4.72e+01  -7.6 2.85e-04   1.2 1.00e+00 8.88e-01f  1\n",
      "  15r 4.6578138e-01 2.68e+00 4.29e-03  -8.1 8.60e-04   0.7 1.00e+00 1.00e+00h  1\n",
      "  16r 4.6578381e-01 2.26e+00 1.19e+02  -8.2 2.58e-03   0.2 1.00e+00 2.72e-01h  1\n",
      "  17r 4.6573738e-01 1.57e+00 1.92e+02  -8.9 7.73e-03  -0.3 1.00e+00 2.24e-01f  1\n",
      "  18r 4.6561845e-01 1.57e+00 3.21e+02  -8.7 2.31e-02  -0.7 1.00e+00 4.73e-02f  1\n",
      "  19r 4.6538047e-01 1.57e+00 2.85e+02  -8.5 4.53e-02  -1.2 2.22e-01 2.86e-02f  1\n",
      "iter    objective    inf_pr   inf_du lg(mu)  ||d||  lg(rg) alpha_du alpha_pr  ls\n",
      "  20r 4.6498639e-01 1.57e+00 6.87e+02  -8.5 1.75e-03  -1.7 9.97e-01 3.04e-01f  1\n",
      "  21r 4.6365814e-01 1.57e+00 6.85e+02  -8.5 1.06e+00  -2.2 1.95e-04 1.25e-03f  1\n",
      "  22r 4.6302317e-01 1.57e+00 6.07e+02  -8.5 1.23e-02  -1.7 5.31e-01 1.01e-01f  1\n",
      "  23r 4.5854744e-01 1.57e+00 9.74e+00  -8.5 5.88e-03  -2.2 6.62e-01 1.00e+00f  1\n",
      "  24r 1.8364638e-01 1.57e+00 3.84e+00  -8.5 7.73e-01    -  3.10e-01 6.07e-01f  1\n",
      "  25r 8.1305681e-02 1.57e+00 1.03e+00  -8.5 3.03e-01    -  9.98e-01 5.77e-01f  1\n",
      "  26r 6.1242279e-02 1.57e+00 2.79e-01  -8.5 1.26e-01    -  1.00e+00 2.63e-01f  1\n",
      "  27r 6.0974505e-03 7.71e+00 1.34e-04  -8.5 9.15e-02    -  1.00e+00 1.00e+00f  1\n",
      "  28r 3.0487202e-03 5.89e+00 2.29e+01  -8.5 2.69e-02    -  1.00e+00 1.13e-01h  2\n",
      "  29r 1.5243551e-03 4.66e+00 8.39e+01  -8.5 1.54e-02    -  1.00e+00 9.92e-02h  2\n",
      "iter    objective    inf_pr   inf_du lg(mu)  ||d||  lg(rg) alpha_du alpha_pr  ls\n",
      "  30r 1.7463022e-03 1.57e+00 1.89e-06  -8.5 5.71e-04    -  1.00e+00 1.00e+00h  1\n",
      "  31r 5.2998880e-03 1.57e+00 2.17e+00  -8.5 3.55e-03    -  6.60e-01 1.00e+00h  1\n",
      "  32r 5.4921211e-03 1.57e+00 5.26e-06  -8.5 1.92e-04  -1.8 1.00e+00 1.00e+00h  1\n",
      "  33r 5.6748129e-03 1.57e+00 8.18e-06  -8.5 1.83e-04  -1.4 1.00e+00 1.00e+00h  1\n",
      "  34r 7.3720014e-03 1.57e+00 1.15e+02  -8.5 3.39e-03  -1.8 1.00e+00 5.00e-01h  2\n",
      "  35r 8.4403940e-03 1.57e+00 6.57e-06  -8.5 1.07e-03    -  1.00e+00 1.00e+00h  1\n",
      "  36r 1.0757167e-02 1.57e+00 2.08e-06  -8.5 2.32e-03    -  1.00e+00 1.00e+00h  1\n",
      "  37r 1.3692394e-02 1.57e+00 5.95e-07  -8.5 2.94e-03    -  1.00e+00 1.00e+00h  1\n",
      "  38r 1.6151009e-02 1.57e+00 3.07e-07  -8.5 2.46e-03    -  1.00e+00 1.00e+00h  1\n",
      "\n",
      "Number of Iterations....: 38\n",
      "\n",
      "                                   (scaled)                 (unscaled)\n",
      "Objective...............:   1.6905734334225677e-02    1.6905734334225677e-02\n",
      "Dual infeasibility......:   9.9999931139493758e-01    9.9999931139493758e-01\n",
      "Constraint violation....:   1.5707963259769480e+00    1.5707963259769480e+00\n",
      "Variable bound violation:   0.0000000000000000e+00    0.0000000000000000e+00\n",
      "Complementarity.........:   3.3428033072129433e-09    3.3428033072129433e-09\n",
      "Overall NLP error.......:   1.5707963259769480e+00    1.5707963259769480e+00\n",
      "\n",
      "\n",
      "Number of objective function evaluations             = 68\n",
      "Number of objective gradient evaluations             = 4\n",
      "Number of equality constraint evaluations            = 68\n",
      "Number of inequality constraint evaluations          = 68\n",
      "Number of equality constraint Jacobian evaluations   = 41\n",
      "Number of inequality constraint Jacobian evaluations = 41\n",
      "Number of Lagrangian Hessian evaluations             = 39\n",
      "Total seconds in IPOPT                               = 4.020\n",
      "\n",
      "EXIT: Converged to a point of local infeasibility. Problem may be infeasible.\n",
      "\n"
     ]
    }
   ],
   "source": [
    "println(\"Solving...\")\n",
    "optimize!(TruckJMP)\n",
    "println()"
   ]
  },
  {
   "cell_type": "code",
   "execution_count": 28,
   "metadata": {},
   "outputs": [
    {
     "ename": "ErrorException",
     "evalue": "  The model was not solved correctly.",
     "output_type": "error",
     "traceback": [
      "  The model was not solved correctly.\n",
      "\n",
      "Stacktrace:\n",
      " [1] error(s::String)\n",
      "   @ Base .\\error.jl:35\n",
      " [2] top-level scope\n",
      "   @ c:\\Users\\hajje\\Dropbox\\PC\\Desktop\\Stage\\COTS\\TestProblems\\testTruckTrailer.ipynb:9"
     ]
    }
   ],
   "source": [
    "# Display results\n",
    "if termination_status(TruckJMP) == MOI.OPTIMAL\n",
    "    println(\"  Solution is optimal\")\n",
    "elseif  termination_status(TruckJMP) == MOI.LOCALLY_SOLVED\n",
    "    println(\"  (Local) solution found\")\n",
    "elseif termination_status(TruckJMP) == MOI.TIME_LIMIT && has_values(TruckJMP)\n",
    "    println(\"  Solution is suboptimal due to a time limit, but a primal solution is available\")\n",
    "else\n",
    "    error(\"  The model was not solved correctly.\")\n",
    "end\n",
    "println(\"  objective value = \", objective_value(TruckJMP))\n",
    "println()"
   ]
  },
  {
   "cell_type": "markdown",
   "metadata": {},
   "source": [
    "## 2. Solving with OptimalControl <a id='oc'></a>"
   ]
  },
  {
   "cell_type": "code",
   "execution_count": 12,
   "metadata": {},
   "outputs": [],
   "source": [
    "using OptimalControl\n",
    "include(\"../Problems/OptimalControl/truck_trailer_OC.jl\")\n",
    "TruckOC = truck_OC();"
   ]
  },
  {
   "cell_type": "code",
   "execution_count": 11,
   "metadata": {},
   "outputs": [
    {
     "name": "stdout",
     "output_type": "stream",
     "text": [
      "Method = (:direct, :adnlp, :ipopt)\n"
     ]
    },
    {
     "ename": "MethodError",
     "evalue": "MethodError: Cannot `convert` an object of type \n  var\"#156#160\"{ReverseDiff.TrackedArray{ForwardDiff.Dual{ForwardDiff.Tag{ADNLPModels.var\"#ψ#268\"{CTDirect.var\"#36#38\"{CTDirect.DOCP}}, Float64}, Float64, 1}, ForwardDiff.Dual{ForwardDiff.Tag{ADNLPModels.var\"#ψ#268\"{CTDirect.var\"#36#38\"{CTDirect.DOCP}}, Float64}, Float64, 1}, 1, Vector{ForwardDiff.Dual{ForwardDiff.Tag{ADNLPModels.var\"#ψ#268\"{CTDirect.var\"#36#38\"{CTDirect.DOCP}}, Float64}, Float64, 1}}, Vector{ForwardDiff.Dual{ForwardDiff.Tag{ADNLPModels.var\"#ψ#268\"{CTDirect.var\"#36#38\"{CTDirect.DOCP}}, Float64}, Float64, 1}}}} to an object of type \n  Union{Real, AbstractVector{<:Real}}\n\nClosest candidates are:\n  convert(::Type{T}, !Matched::T) where T\n   @ Base Base.jl:64\n",
     "output_type": "error",
     "traceback": [
      "MethodError: Cannot `convert` an object of type \n",
      "  var\"#156#160\"{ReverseDiff.TrackedArray{ForwardDiff.Dual{ForwardDiff.Tag{ADNLPModels.var\"#ψ#268\"{CTDirect.var\"#36#38\"{CTDirect.DOCP}}, Float64}, Float64, 1}, ForwardDiff.Dual{ForwardDiff.Tag{ADNLPModels.var\"#ψ#268\"{CTDirect.var\"#36#38\"{CTDirect.DOCP}}, Float64}, Float64, 1}, 1, Vector{ForwardDiff.Dual{ForwardDiff.Tag{ADNLPModels.var\"#ψ#268\"{CTDirect.var\"#36#38\"{CTDirect.DOCP}}, Float64}, Float64, 1}}, Vector{ForwardDiff.Dual{ForwardDiff.Tag{ADNLPModels.var\"#ψ#268\"{CTDirect.var\"#36#38\"{CTDirect.DOCP}}, Float64}, Float64, 1}}}} to an object of type \n",
      "  Union{Real, AbstractVector{<:Real}}\n",
      "\n",
      "Closest candidates are:\n",
      "  convert(::Type{T}, !Matched::T) where T\n",
      "   @ Base Base.jl:64\n",
      "\n",
      "\n",
      "Stacktrace:\n",
      "  [1] (::ControlConstraint{NonAutonomous, NonFixed})(t::Float64, u::ReverseDiff.TrackedArray{ForwardDiff.Dual{ForwardDiff.Tag{ADNLPModels.var\"#ψ#268\"{CTDirect.var\"#36#38\"{CTDirect.DOCP}}, Float64}, Float64, 1}, ForwardDiff.Dual{ForwardDiff.Tag{ADNLPModels.var\"#ψ#268\"{CTDirect.var\"#36#38\"{CTDirect.DOCP}}, Float64}, Float64, 1}, 1, Vector{ForwardDiff.Dual{ForwardDiff.Tag{ADNLPModels.var\"#ψ#268\"{CTDirect.var\"#36#38\"{CTDirect.DOCP}}, Float64}, Float64, 1}}, Vector{ForwardDiff.Dual{ForwardDiff.Tag{ADNLPModels.var\"#ψ#268\"{CTDirect.var\"#36#38\"{CTDirect.DOCP}}, Float64}, Float64, 1}}}, v::ReverseDiff.TrackedReal{ForwardDiff.Dual{ForwardDiff.Tag{ADNLPModels.var\"#ψ#268\"{CTDirect.var\"#36#38\"{CTDirect.DOCP}}, Float64}, Float64, 1}, ForwardDiff.Dual{ForwardDiff.Tag{ADNLPModels.var\"#ψ#268\"{CTDirect.var\"#36#38\"{CTDirect.DOCP}}, Float64}, Float64, 1}, ReverseDiff.TrackedArray{ForwardDiff.Dual{ForwardDiff.Tag{ADNLPModels.var\"#ψ#268\"{CTDirect.var\"#36#38\"{CTDirect.DOCP}}, Float64}, Float64, 1}, ForwardDiff.Dual{ForwardDiff.Tag{ADNLPModels.var\"#ψ#268\"{CTDirect.var\"#36#38\"{CTDirect.DOCP}}, Float64}, Float64, 1}, 1, Vector{ForwardDiff.Dual{ForwardDiff.Tag{ADNLPModels.var\"#ψ#268\"{CTDirect.var\"#36#38\"{CTDirect.DOCP}}, Float64}, Float64, 1}}, Vector{ForwardDiff.Dual{ForwardDiff.Tag{ADNLPModels.var\"#ψ#268\"{CTDirect.var\"#36#38\"{CTDirect.DOCP}}, Float64}, Float64, 1}}}})\n",
      "    @ CTBase C:\\Users\\hajje\\.julia\\packages\\CTBase\\xtzdT\\src\\functions.jl:1026\n",
      "  [2] (::CTBase.var\"#ξ#100\")(t::Float64, u::ReverseDiff.TrackedArray{ForwardDiff.Dual{ForwardDiff.Tag{ADNLPModels.var\"#ψ#268\"{CTDirect.var\"#36#38\"{CTDirect.DOCP}}, Float64}, Float64, 1}, ForwardDiff.Dual{ForwardDiff.Tag{ADNLPModels.var\"#ψ#268\"{CTDirect.var\"#36#38\"{CTDirect.DOCP}}, Float64}, Float64, 1}, 1, Vector{ForwardDiff.Dual{ForwardDiff.Tag{ADNLPModels.var\"#ψ#268\"{CTDirect.var\"#36#38\"{CTDirect.DOCP}}, Float64}, Float64, 1}}, Vector{ForwardDiff.Dual{ForwardDiff.Tag{ADNLPModels.var\"#ψ#268\"{CTDirect.var\"#36#38\"{CTDirect.DOCP}}, Float64}, Float64, 1}}}, v::ReverseDiff.TrackedReal{ForwardDiff.Dual{ForwardDiff.Tag{ADNLPModels.var\"#ψ#268\"{CTDirect.var\"#36#38\"{CTDirect.DOCP}}, Float64}, Float64, 1}, ForwardDiff.Dual{ForwardDiff.Tag{ADNLPModels.var\"#ψ#268\"{CTDirect.var\"#36#38\"{CTDirect.DOCP}}, Float64}, Float64, 1}, ReverseDiff.TrackedArray{ForwardDiff.Dual{ForwardDiff.Tag{ADNLPModels.var\"#ψ#268\"{CTDirect.var\"#36#38\"{CTDirect.DOCP}}, Float64}, Float64, 1}, ForwardDiff.Dual{ForwardDiff.Tag{ADNLPModels.var\"#ψ#268\"{CTDirect.var\"#36#38\"{CTDirect.DOCP}}, Float64}, Float64, 1}, 1, Vector{ForwardDiff.Dual{ForwardDiff.Tag{ADNLPModels.var\"#ψ#268\"{CTDirect.var\"#36#38\"{CTDirect.DOCP}}, Float64}, Float64, 1}}, Vector{ForwardDiff.Dual{ForwardDiff.Tag{ADNLPModels.var\"#ψ#268\"{CTDirect.var\"#36#38\"{CTDirect.DOCP}}, Float64}, Float64, 1}}}})\n",
      "    @ CTBase C:\\Users\\hajje\\.julia\\packages\\CTBase\\xtzdT\\src\\model.jl:1157\n",
      "  [3] DOCP_constraints!(c::Vector{ReverseDiff.TrackedReal{ForwardDiff.Dual{ForwardDiff.Tag{ADNLPModels.var\"#ψ#268\"{CTDirect.var\"#36#38\"{CTDirect.DOCP}}, Float64}, Float64, 1}, ForwardDiff.Dual{ForwardDiff.Tag{ADNLPModels.var\"#ψ#268\"{CTDirect.var\"#36#38\"{CTDirect.DOCP}}, Float64}, Float64, 1}, ReverseDiff.TrackedArray{ForwardDiff.Dual{ForwardDiff.Tag{ADNLPModels.var\"#ψ#268\"{CTDirect.var\"#36#38\"{CTDirect.DOCP}}, Float64}, Float64, 1}, ForwardDiff.Dual{ForwardDiff.Tag{ADNLPModels.var\"#ψ#268\"{CTDirect.var\"#36#38\"{CTDirect.DOCP}}, Float64}, Float64, 1}, 1, Vector{ForwardDiff.Dual{ForwardDiff.Tag{ADNLPModels.var\"#ψ#268\"{CTDirect.var\"#36#38\"{CTDirect.DOCP}}, Float64}, Float64, 1}}, Vector{ForwardDiff.Dual{ForwardDiff.Tag{ADNLPModels.var\"#ψ#268\"{CTDirect.var\"#36#38\"{CTDirect.DOCP}}, Float64}, Float64, 1}}}}}, xu::ReverseDiff.TrackedArray{ForwardDiff.Dual{ForwardDiff.Tag{ADNLPModels.var\"#ψ#268\"{CTDirect.var\"#36#38\"{CTDirect.DOCP}}, Float64}, Float64, 1}, ForwardDiff.Dual{ForwardDiff.Tag{ADNLPModels.var\"#ψ#268\"{CTDirect.var\"#36#38\"{CTDirect.DOCP}}, Float64}, Float64, 1}, 1, Vector{ForwardDiff.Dual{ForwardDiff.Tag{ADNLPModels.var\"#ψ#268\"{CTDirect.var\"#36#38\"{CTDirect.DOCP}}, Float64}, Float64, 1}}, Vector{ForwardDiff.Dual{ForwardDiff.Tag{ADNLPModels.var\"#ψ#268\"{CTDirect.var\"#36#38\"{CTDirect.DOCP}}, Float64}, Float64, 1}}}, docp::CTDirect.DOCP)\n",
      "    @ CTDirect C:\\Users\\hajje\\.julia\\packages\\CTDirect\\wWLhZ\\src\\problem.jl:381\n",
      "  [4] (::CTDirect.var\"#36#38\"{CTDirect.DOCP})(c::Vector{ReverseDiff.TrackedReal{ForwardDiff.Dual{ForwardDiff.Tag{ADNLPModels.var\"#ψ#268\"{CTDirect.var\"#36#38\"{CTDirect.DOCP}}, Float64}, Float64, 1}, ForwardDiff.Dual{ForwardDiff.Tag{ADNLPModels.var\"#ψ#268\"{CTDirect.var\"#36#38\"{CTDirect.DOCP}}, Float64}, Float64, 1}, ReverseDiff.TrackedArray{ForwardDiff.Dual{ForwardDiff.Tag{ADNLPModels.var\"#ψ#268\"{CTDirect.var\"#36#38\"{CTDirect.DOCP}}, Float64}, Float64, 1}, ForwardDiff.Dual{ForwardDiff.Tag{ADNLPModels.var\"#ψ#268\"{CTDirect.var\"#36#38\"{CTDirect.DOCP}}, Float64}, Float64, 1}, 1, Vector{ForwardDiff.Dual{ForwardDiff.Tag{ADNLPModels.var\"#ψ#268\"{CTDirect.var\"#36#38\"{CTDirect.DOCP}}, Float64}, Float64, 1}}, Vector{ForwardDiff.Dual{ForwardDiff.Tag{ADNLPModels.var\"#ψ#268\"{CTDirect.var\"#36#38\"{CTDirect.DOCP}}, Float64}, Float64, 1}}}}}, x::ReverseDiff.TrackedArray{ForwardDiff.Dual{ForwardDiff.Tag{ADNLPModels.var\"#ψ#268\"{CTDirect.var\"#36#38\"{CTDirect.DOCP}}, Float64}, Float64, 1}, ForwardDiff.Dual{ForwardDiff.Tag{ADNLPModels.var\"#ψ#268\"{CTDirect.var\"#36#38\"{CTDirect.DOCP}}, Float64}, Float64, 1}, 1, Vector{ForwardDiff.Dual{ForwardDiff.Tag{ADNLPModels.var\"#ψ#268\"{CTDirect.var\"#36#38\"{CTDirect.DOCP}}, Float64}, Float64, 1}}, Vector{ForwardDiff.Dual{ForwardDiff.Tag{ADNLPModels.var\"#ψ#268\"{CTDirect.var\"#36#38\"{CTDirect.DOCP}}, Float64}, Float64, 1}}})\n",
      "    @ CTDirect C:\\Users\\hajje\\.julia\\packages\\CTDirect\\wWLhZ\\src\\solve.jl:43\n",
      "  [5] (::ADNLPModels.var\"#ψ#268\"{CTDirect.var\"#36#38\"{CTDirect.DOCP}})(x::ReverseDiff.TrackedArray{ForwardDiff.Dual{ForwardDiff.Tag{ADNLPModels.var\"#ψ#268\"{CTDirect.var\"#36#38\"{CTDirect.DOCP}}, Float64}, Float64, 1}, ForwardDiff.Dual{ForwardDiff.Tag{ADNLPModels.var\"#ψ#268\"{CTDirect.var\"#36#38\"{CTDirect.DOCP}}, Float64}, Float64, 1}, 1, Vector{ForwardDiff.Dual{ForwardDiff.Tag{ADNLPModels.var\"#ψ#268\"{CTDirect.var\"#36#38\"{CTDirect.DOCP}}, Float64}, Float64, 1}}, Vector{ForwardDiff.Dual{ForwardDiff.Tag{ADNLPModels.var\"#ψ#268\"{CTDirect.var\"#36#38\"{CTDirect.DOCP}}, Float64}, Float64, 1}}}, u::ReverseDiff.TrackedArray{ForwardDiff.Dual{ForwardDiff.Tag{ADNLPModels.var\"#ψ#268\"{CTDirect.var\"#36#38\"{CTDirect.DOCP}}, Float64}, Float64, 1}, ForwardDiff.Dual{ForwardDiff.Tag{ADNLPModels.var\"#ψ#268\"{CTDirect.var\"#36#38\"{CTDirect.DOCP}}, Float64}, Float64, 1}, 1, Vector{ForwardDiff.Dual{ForwardDiff.Tag{ADNLPModels.var\"#ψ#268\"{CTDirect.var\"#36#38\"{CTDirect.DOCP}}, Float64}, Float64, 1}}, Vector{ForwardDiff.Dual{ForwardDiff.Tag{ADNLPModels.var\"#ψ#268\"{CTDirect.var\"#36#38\"{CTDirect.DOCP}}, Float64}, Float64, 1}}})\n",
      "    @ ADNLPModels C:\\Users\\hajje\\.julia\\packages\\ADNLPModels\\7iZmF\\src\\reverse.jl:223\n",
      "  [6] ReverseDiff.GradientTape(f::Function, input::Tuple{Vector{ForwardDiff.Dual{ForwardDiff.Tag{ADNLPModels.var\"#ψ#268\"{CTDirect.var\"#36#38\"{CTDirect.DOCP}}, Float64}, Float64, 1}}, Vector{ForwardDiff.Dual{ForwardDiff.Tag{ADNLPModels.var\"#ψ#268\"{CTDirect.var\"#36#38\"{CTDirect.DOCP}}, Float64}, Float64, 1}}}, cfg::ReverseDiff.GradientConfig{Tuple{ReverseDiff.TrackedArray{ForwardDiff.Dual{ForwardDiff.Tag{ADNLPModels.var\"#ψ#268\"{CTDirect.var\"#36#38\"{CTDirect.DOCP}}, Float64}, Float64, 1}, ForwardDiff.Dual{ForwardDiff.Tag{ADNLPModels.var\"#ψ#268\"{CTDirect.var\"#36#38\"{CTDirect.DOCP}}, Float64}, Float64, 1}, 1, Vector{ForwardDiff.Dual{ForwardDiff.Tag{ADNLPModels.var\"#ψ#268\"{CTDirect.var\"#36#38\"{CTDirect.DOCP}}, Float64}, Float64, 1}}, Vector{ForwardDiff.Dual{ForwardDiff.Tag{ADNLPModels.var\"#ψ#268\"{CTDirect.var\"#36#38\"{CTDirect.DOCP}}, Float64}, Float64, 1}}}, ReverseDiff.TrackedArray{ForwardDiff.Dual{ForwardDiff.Tag{ADNLPModels.var\"#ψ#268\"{CTDirect.var\"#36#38\"{CTDirect.DOCP}}, Float64}, Float64, 1}, ForwardDiff.Dual{ForwardDiff.Tag{ADNLPModels.var\"#ψ#268\"{CTDirect.var\"#36#38\"{CTDirect.DOCP}}, Float64}, Float64, 1}, 1, Vector{ForwardDiff.Dual{ForwardDiff.Tag{ADNLPModels.var\"#ψ#268\"{CTDirect.var\"#36#38\"{CTDirect.DOCP}}, Float64}, Float64, 1}}, Vector{ForwardDiff.Dual{ForwardDiff.Tag{ADNLPModels.var\"#ψ#268\"{CTDirect.var\"#36#38\"{CTDirect.DOCP}}, Float64}, Float64, 1}}}}})\n",
      "    @ ReverseDiff C:\\Users\\hajje\\.julia\\packages\\ReverseDiff\\p1MzG\\src\\api\\tape.jl:207\n",
      "  [7] ADNLPModels.ReverseDiffADHvprod(nvar::Int64, f::Function, ncon::Int64, c!::CTDirect.var\"#36#38\"{CTDirect.DOCP}; x0::Vector{Float64}, kwargs::Base.Pairs{Symbol, Union{}, Tuple{}, NamedTuple{(), Tuple{}}})\n",
      "    @ ADNLPModels C:\\Users\\hajje\\.julia\\packages\\ADNLPModels\\7iZmF\\src\\reverse.jl:230\n",
      "  [8] macro expansion\n",
      "    @ C:\\Users\\hajje\\.julia\\packages\\ADNLPModels\\7iZmF\\src\\ad.jl:143 [inlined]\n",
      "  [9] macro expansion\n",
      "    @ .\\timing.jl:393 [inlined]\n",
      " [10] ADNLPModels.ADModelBackend(nvar::Int64, f::CTDirect.var\"#35#37\"{CTDirect.DOCP}, ncon::Int64, c!::CTDirect.var\"#36#38\"{CTDirect.DOCP}; backend::Symbol, matrix_free::Bool, show_time::Bool, gradient_backend::Type, hprod_backend::Type, jprod_backend::Type, jtprod_backend::Type, jacobian_backend::Type, hessian_backend::Type, ghjvprod_backend::Type, kwargs::Base.Pairs{Symbol, Vector{Float64}, Tuple{Symbol}, NamedTuple{(:x0,), Tuple{Vector{Float64}}}})\n",
      "    @ ADNLPModels C:\\Users\\hajje\\.julia\\packages\\ADNLPModels\\7iZmF\\src\\ad.jl:139\n",
      " [11] ADNLPModel!(f::Function, x0::Vector{Float64}, lvar::Vector{Float64}, uvar::Vector{Float64}, c!::CTDirect.var\"#36#38\"{CTDirect.DOCP}, lcon::Vector{Float64}, ucon::Vector{Float64}; y0::Vector{Float64}, name::String, minimize::Bool, kwargs::Base.Pairs{Symbol, Symbol, Tuple{Symbol}, NamedTuple{(:backend,), Tuple{Symbol}}})\n",
      "    @ ADNLPModels C:\\Users\\hajje\\.julia\\packages\\ADNLPModels\\7iZmF\\src\\nlp.jl:402\n",
      " [12] ADNLPModel!\n",
      "    @ C:\\Users\\hajje\\.julia\\packages\\ADNLPModels\\7iZmF\\src\\nlp.jl:383 [inlined]\n",
      " [13] directTranscription(ocp::CTBase.OptimalControlModel{NonAutonomous, NonFixed}, description::Tuple{Symbol, Symbol}; init::CTBase.OCPInit, grid_size::Int64)\n",
      "    @ CTDirect C:\\Users\\hajje\\.julia\\packages\\CTDirect\\wWLhZ\\src\\solve.jl:40\n",
      " [14] solve(::CTBase.OptimalControlModel{NonAutonomous, NonFixed}, ::Symbol, ::Vararg{Symbol}; init::CTBase.OCPInit, grid_size::Int64, display::Bool, print_level::Int64, mu_strategy::String, kwargs::Base.Pairs{Symbol, String, Tuple{Symbol, Symbol}, NamedTuple{(:linear_solver, :hsllib), Tuple{String, String}}})\n",
      "    @ CTDirect C:\\Users\\hajje\\.julia\\packages\\CTDirect\\wWLhZ\\src\\solve.jl:130\n",
      " [15] solve(::CTBase.OptimalControlModel{NonAutonomous, NonFixed}; display::Bool, init::CTBase.OCPInit, kwargs::Base.Pairs{Symbol, String, Tuple{Symbol, Symbol}, NamedTuple{(:linear_solver, :hsllib), Tuple{String, String}}})\n",
      "    @ OptimalControl C:\\Users\\hajje\\.julia\\packages\\OptimalControl\\eiicw\\src\\solve.jl:80\n",
      " [16] top-level scope\n",
      "    @ c:\\Users\\hajje\\Dropbox\\PC\\Desktop\\Stage\\COTS\\TestProblems\\testTruckTrailer.ipynb:3"
     ]
    }
   ],
   "source": [
    "import HSL_jll\n",
    "# Solve the problem\n",
    "sol = OptimalControl.solve(TruckOC,\n",
    "            linear_solver=\"ma27\",hsllib=HSL_jll.libhsl_path)"
   ]
  },
  {
   "cell_type": "code",
   "execution_count": 1,
   "metadata": {},
   "outputs": [
    {
     "ename": "UndefVarError",
     "evalue": "UndefVarError: `plot` not defined",
     "output_type": "error",
     "traceback": [
      "UndefVarError: `plot` not defined\n",
      "\n",
      "Stacktrace:\n",
      " [1] top-level scope\n",
      "   @ c:\\Users\\hajje\\Dropbox\\PC\\Desktop\\Stage\\COTS\\TestProblems\\testTruckTrailer.ipynb:1"
     ]
    }
   ],
   "source": [
    "plot(sol)"
   ]
  }
 ],
 "metadata": {
  "kernelspec": {
   "display_name": "Julia 1.9.3",
   "language": "julia",
   "name": "julia-1.9"
  },
  "language_info": {
   "file_extension": ".jl",
   "mimetype": "application/julia",
   "name": "julia",
   "version": "1.9.3"
  }
 },
 "nbformat": 4,
 "nbformat_minor": 2
}
