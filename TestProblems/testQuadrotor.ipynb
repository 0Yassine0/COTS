{
 "cells": [
  {
   "cell_type": "markdown",
   "metadata": {},
   "source": [
    "<div style=\"width:90%;\n",
    "            margin:10px;\n",
    "            padding:8px;\n",
    "            border:2px solid #FF0000;\n",
    "            border-radius:20px;\n",
    "            font-weight:bold;\n",
    "            font-size:2.5em;\n",
    "            text-align:center;\">\n",
    "The Quadrotor Problem\n",
    "</div>\n"
   ]
  },
  {
   "cell_type": "markdown",
   "metadata": {},
   "source": [
    "<div style=\"width:90%;\n",
    "            margin:9px;\n",
    "            font-size:1em;\">\n",
    "            \n",
    "*The Quadrotor Problem:* The goal is to move the quadrotor from a given initial position and orientation to a given final position and orientation in minimum total time while avoiding cylindrical obstacles.                              \n",
    "The problem is inspired from the following paper: [FATROP : A Fast Constrained Optimal Control Problem Solver for Robot Trajectory Optimization and Control](https://arxiv.org/pdf/2303.16746) made for [Casadi](https://web.casadi.org/) software and [Fatrop](https://github.com/meco-group/fatrop) solver.                            \n",
    "We solve the problem using the [JuMP](https://jump.dev/) and [OptimalControl](https://control-toolbox.org/OptimalControl.jl/stable/) packages in Julia then we compare the results.\n",
    "\n",
    "1. [JuMP Formulation](#jump)\n",
    "2. [OptimalControl Formulation](#oc)\n",
    "3. [Comparison](#comp)\n",
    "\n",
    "</div>"
   ]
  },
  {
   "cell_type": "markdown",
   "metadata": {},
   "source": [
    "## 1. Solving with JuMP <a id='jump'></a>"
   ]
  },
  {
   "cell_type": "code",
   "execution_count": 1,
   "metadata": {},
   "outputs": [],
   "source": [
    "using JuMP , Ipopt\n",
    "include(\"../Problems/JuMP/quadrotor_JMP.jl\")\n",
    "QuadrotorJMP = quadrotor_JMP();\n"
   ]
  },
  {
   "cell_type": "code",
   "execution_count": 2,
   "metadata": {},
   "outputs": [],
   "source": [
    "import HSL_jll\n",
    "set_optimizer(QuadrotorJMP,Ipopt.Optimizer)\n",
    "set_attribute(QuadrotorJMP, \"print_level\", 5)\n",
    "set_optimizer_attribute(QuadrotorJMP,\"tol\",1e-8)\n",
    "set_optimizer_attribute(QuadrotorJMP,\"constr_viol_tol\",1e-6)\n",
    "set_optimizer_attribute(QuadrotorJMP,\"max_iter\",1000)\n",
    "set_optimizer_attribute(QuadrotorJMP,\"mu_strategy\",\"adaptive\")\n",
    "set_attribute(QuadrotorJMP, \"hsllib\", HSL_jll.libhsl_path)\n",
    "set_attribute(QuadrotorJMP, \"linear_solver\", \"ma57\")"
   ]
  },
  {
   "cell_type": "code",
   "execution_count": 3,
   "metadata": {},
   "outputs": [
    {
     "name": "stdout",
     "output_type": "stream",
     "text": [
      "Solving...\n",
      "\n",
      "******************************************************************************\n",
      "This program contains Ipopt, a library for large-scale nonlinear optimization.\n",
      " Ipopt is released as open source code under the Eclipse Public License (EPL).\n",
      "         For more information visit https://github.com/coin-or/Ipopt\n",
      "******************************************************************************\n",
      "\n",
      "This is Ipopt version 3.14.14, running with linear solver ma57.\n",
      "\n",
      "Number of nonzeros in equality constraint Jacobian...:    59367\n",
      "Number of nonzeros in inequality constraint Jacobian.:      802\n",
      "Number of nonzeros in Lagrangian Hessian.............:  7233157\n",
      "\n",
      "Total number of variables............................:     1011\n",
      "                     variables with only lower bounds:        1\n",
      "                variables with lower and upper bounds:      303\n",
      "                     variables with only upper bounds:        0\n",
      "Total number of equality constraints.................:      617\n",
      "Total number of inequality constraints...............:      301\n",
      "        inequality constraints with only lower bounds:      101\n",
      "   inequality constraints with lower and upper bounds:      200\n",
      "        inequality constraints with only upper bounds:        0\n",
      "\n",
      "iter    objective    inf_pr   inf_du lg(mu)  ||d||  lg(rg) alpha_du alpha_pr  ls\n",
      "   0  1.0100990e-02 5.00e+00 1.02e-05   0.0 0.00e+00    -  0.00e+00 0.00e+00   0\n",
      "   1r 1.0100990e-02 5.00e+00 9.99e+02   0.7 0.00e+00    -  0.00e+00 4.74e-08R  2\n",
      "   2r 1.0384304e-02 4.98e+00 9.72e+02   0.7 8.94e+00    -  9.30e-01 2.64e-02f  1\n",
      "   3r 1.0228007e-02 2.32e+01 7.14e+02  -0.8 8.45e+00    -  1.00e+00 2.67e-01f  1\n",
      "   4r 1.2366173e-02 6.48e+01 6.84e+02   0.3 2.82e+01    -  1.00e+00 4.08e-02f  1\n",
      "   5r 1.2366173e-02 6.48e+01 9.99e+02   0.6 0.00e+00    -  0.00e+00 9.14e-08R  2\n",
      "   6r 1.2366910e-02 6.48e+01 1.00e+03  -0.1 5.22e-01    -  9.98e-01 1.08e-05f  3\n",
      "   7r 1.3247508e-02 4.15e+02 2.91e+01  -1.2 3.95e-01    -  1.00e+00 9.71e-01f  1\n",
      "   8r 6.5004387e-03 8.65e+02 4.97e+01  -2.7 1.93e-02   2.0 1.00e+00 8.04e-01f  1\n",
      "   9r 1.8234691e-04 8.33e+04 3.99e+03  -3.2 1.86e-02   1.5 1.00e+00 7.88e-01f  1\n",
      "iter    objective    inf_pr   inf_du lg(mu)  ||d||  lg(rg) alpha_du alpha_pr  ls\n",
      "  10r 2.1369218e-04 3.61e+04 1.68e+03  -4.4 2.34e-02   1.0 1.00e+00 8.42e-01f  1\n",
      "  11r 1.8396273e-04 5.12e+03 2.12e+02  -5.2 5.58e-02   0.6 1.00e+00 5.87e-01f  1\n",
      "  12r 1.1904020e-04 2.17e+05 3.57e+05  -5.0 2.02e-02   0.1 1.00e+00 4.27e-01f  1\n",
      "Reallocating memory for MA57: lfact (8658523)\n",
      "  13r 1.1839781e-04 2.19e+05 3.12e+05  -1.8 1.81e+02  -0.4 5.07e-05 1.29e-05h  1\n",
      "  14r 1.1839452e-04 2.16e+05 4.00e+05  -3.1 3.99e-04   3.7 7.26e-01 2.84e-02f  1\n",
      "  15r 1.1691671e-04 1.41e+05 3.49e+05  -4.2 3.15e-01    -  1.00e+00 5.05e-01f  1\n",
      "  16r 1.1513689e-04 6.17e+03 1.50e+05  -6.0 1.76e-01    -  1.00e+00 9.67e-01f  1\n",
      "  17r 1.1353337e-04 7.86e+02 9.90e+02  -6.4 2.80e-01    -  1.00e+00 8.72e-01h  1\n",
      "  18r 1.1347767e-04 5.45e+02 1.47e+03  -6.8 2.60e-02    -  1.30e-01 2.89e-01h  1\n",
      "  19r 1.1353629e-04 5.33e+02 2.39e+03  -6.2 3.89e-01    -  3.88e-01 2.25e-02h  1\n",
      "iter    objective    inf_pr   inf_du lg(mu)  ||d||  lg(rg) alpha_du alpha_pr  ls\n",
      "  20r 1.1693390e-04 1.05e+03 5.07e+03  -6.2 5.24e-01    -  1.06e-02 1.00e+00h  1\n",
      "  21r 1.1694312e-04 7.49e+02 2.12e+03  -7.1 1.31e-07   3.2 1.00e+00 5.32e-01h  1\n",
      "  22r 1.1593908e-04 4.34e+02 6.68e+02  -7.3 1.67e-01    -  1.00e+00 8.78e-01h  1\n",
      "  23r 1.1543087e-04 3.68e+02 1.78e+02  -8.1 7.75e-02    -  1.00e+00 9.71e-01h  1\n",
      "  24r 1.1554203e-04 3.68e+02 1.53e+02  -6.1 2.02e-05   2.7 6.63e-03 3.55e-02f  1\n",
      "  25r 1.1523547e-04 3.94e+02 3.87e+01  -7.7 3.83e-02    -  1.00e+00 1.00e+00h  1\n",
      "  26r 1.1509622e-04 4.73e+02 2.40e+01  -7.7 1.93e-02    -  1.00e+00 1.00e+00h  1\n",
      "  27r 1.1503652e-04 1.19e+03 1.67e+01  -7.7 6.50e-03    -  1.00e+00 1.00e+00h  1\n",
      "  28r 1.1510501e-04 3.82e+03 1.43e+02  -7.7 3.00e-02    -  1.00e+00 4.04e-01h  2\n",
      "  29r 1.1508375e-04 3.72e+03 2.85e+02  -7.7 1.06e-01    -  1.00e+00 3.12e-02h  6\n",
      "iter    objective    inf_pr   inf_du lg(mu)  ||d||  lg(rg) alpha_du alpha_pr  ls\n",
      "  30r 1.1507176e-04 3.71e+03 7.53e+02  -7.7 5.98e-01    -  1.00e+00 3.11e-03h  7\n",
      "  31r 1.1506705e-04 3.71e+03 7.47e+02  -7.7 1.01e+00    -  1.00e+00 7.25e-04h  8\n",
      "  32r 1.1506462e-04 3.60e+03 2.33e+02  -7.7 1.17e-02    -  1.00e+00 3.12e-02h  6\n",
      "  33r 1.1506447e-04 3.60e+03 2.39e+02  -7.7 9.69e-02    -  1.00e+00 2.37e-04h 13\n",
      "  34r 1.1448123e-04 2.91e+03 2.25e+01  -7.7 9.03e-02    -  1.00e+00 1.00e+00h  1\n",
      "  35r 1.1490673e-04 1.09e+02 3.55e+01  -7.7 6.67e-02    -  6.74e-01 1.00e+00h  1\n",
      "  36r 1.1490530e-04 1.88e+02 1.87e+00  -8.5 1.81e-03    -  1.00e+00 1.00e+00h  1\n",
      "  37r 1.1489170e-04 7.76e+03 5.50e+02  -9.0 8.84e-08   2.2 1.00e+00 1.00e+00h  1\n",
      "  38r 1.1518751e-04 7.70e+03 2.88e+01  -9.0 3.46e-01    -  1.42e-01 1.37e-01h  1\n",
      "  39r 1.1500003e-04 2.56e+03 2.22e+02  -9.0 4.35e-02    -  1.00e+00 6.79e-01h  1\n",
      "iter    objective    inf_pr   inf_du lg(mu)  ||d||  lg(rg) alpha_du alpha_pr  ls\n",
      "  40r 1.1490411e-04 1.64e+02 2.34e-01  -9.0 1.50e-02    -  1.00e+00 1.00e+00f  1\n",
      "  41r 1.1491034e-04 4.09e+01 1.48e-01  -9.0 7.54e-04    -  1.00e+00 1.00e+00h  1\n",
      "  42r 1.1491513e-04 1.72e+02 3.13e-01  -9.0 7.35e-05    -  1.00e+00 1.00e+00h  1\n",
      "  43r 1.1491486e-04 1.26e+02 2.52e-01  -9.0 4.29e-04    -  1.00e+00 1.00e+00h  1\n",
      "  44r 1.1491746e-04 3.58e+02 1.35e+00  -9.0 6.54e-05    -  1.00e+00 1.00e+00h  1\n",
      "  45r 1.1495764e-04 3.92e+02 2.66e+01  -9.0 4.38e-03    -  7.84e-01 1.00e+00h  1\n",
      "  46r 1.1497138e-04 3.92e+02 2.83e+01  -9.0 5.15e-03   1.7 1.73e-04 1.79e-05h  4\n",
      "  47r 1.1497355e-04 3.92e+02 3.14e+01  -9.0 4.69e-04   1.3 3.17e-03 3.09e-05h  7\n",
      "  48r 1.1495937e-04 1.15e+02 2.86e+01  -9.0 2.00e-03    -  1.00e+00 5.00e-01h  2\n",
      "  49r 1.1494869e-04 3.49e+01 2.56e+01  -9.0 1.77e-03    -  1.00e+00 5.00e-01h  2\n",
      "iter    objective    inf_pr   inf_du lg(mu)  ||d||  lg(rg) alpha_du alpha_pr  ls\n",
      "  50r 1.1559190e-04 3.46e+01 1.98e+01  -9.0 1.09e-05   0.8 1.39e-02 3.70e-01h  2\n",
      "  51r 1.1525235e-04 3.57e+01 9.15e-01  -9.0 1.38e-03    -  1.00e+00 1.00e+00h  1\n",
      "  52r 1.1516642e-04 9.46e+00 8.74e+00  -9.0 6.65e-04    -  1.00e+00 5.00e-01h  2\n",
      "  53r 1.1510386e-04 4.43e+00 4.62e+01  -9.0 5.22e-04    -  1.00e+00 5.00e-01h  2\n",
      "  54r 1.1501147e-04 4.43e+00 7.56e-02  -9.0 4.00e-04    -  1.00e+00 1.00e+00h  1\n",
      "  55r 1.2281778e-04 4.43e+00 2.57e-03  -7.2 1.83e-05   0.3 1.00e+00 1.00e+00f  1\n",
      "  56r 1.6437646e-04 4.43e+00 8.73e-02  -7.3 2.48e-03    -  1.00e+00 1.00e+00h  1\n",
      "  57r 1.4660395e-04 4.43e+00 5.89e-03  -7.3 2.97e-03    -  1.00e+00 1.00e+00h  1\n",
      "  58r 1.3868019e-04 4.43e+00 1.57e-03  -7.3 2.02e-03    -  1.00e+00 1.00e+00h  1\n",
      "  59r 1.2751233e-04 4.43e+00 2.68e-04  -8.4 2.85e-03    -  1.00e+00 1.00e+00h  1\n",
      "iter    objective    inf_pr   inf_du lg(mu)  ||d||  lg(rg) alpha_du alpha_pr  ls\n",
      "  60r 1.2151004e-04 4.43e+00 3.42e-04  -9.0 1.20e-03    -  1.00e+00 1.00e+00h  1\n",
      "  61r 1.1891725e-04 4.43e+00 1.99e-04  -9.0 7.57e-04    -  1.00e+00 1.00e+00h  1\n",
      "  62r 1.1809461e-04 4.43e+00 5.48e-05  -9.0 1.60e-04    -  1.00e+00 1.00e+00h  1\n",
      "  63r 1.1800531e-04 4.43e+00 1.43e-06  -9.0 3.74e-06    -  1.00e+00 1.00e+00h  1\n",
      "\n",
      "Number of Iterations....: 63\n",
      "\n",
      "                                   (scaled)                 (unscaled)\n",
      "Objective...............:   1.1800358232311233e-04    1.1800358232311233e-04\n",
      "Dual infeasibility......:   1.0000003864859992e+00    1.0000003864859992e+00\n",
      "Constraint violation....:   4.4288294039297416e+00    4.4288294039297416e+00\n",
      "Variable bound violation:   0.0000000000000000e+00    0.0000000000000000e+00\n",
      "Complementarity.........:   1.0000002106737353e-09    1.0000002106737353e-09\n",
      "Overall NLP error.......:   4.4288294039297416e+00    4.4288294039297416e+00\n",
      "\n",
      "\n",
      "Number of objective function evaluations             = 131\n",
      "Number of objective gradient evaluations             = 5\n",
      "Number of equality constraint evaluations            = 131\n",
      "Number of inequality constraint evaluations          = 131\n",
      "Number of equality constraint Jacobian evaluations   = 67\n",
      "Number of inequality constraint Jacobian evaluations = 67\n",
      "Number of Lagrangian Hessian evaluations             = 64\n",
      "Total seconds in IPOPT                               = 118.393\n",
      "\n",
      "EXIT: Converged to a point of local infeasibility. Problem may be infeasible.\n",
      "\n"
     ]
    }
   ],
   "source": [
    "println(\"Solving...\")\n",
    "optimize!(QuadrotorJMP)\n",
    "println()"
   ]
  },
  {
   "cell_type": "code",
   "execution_count": null,
   "metadata": {},
   "outputs": [],
   "source": [
    "# Display results\n",
    "if termination_status(QuadrotorJMP) == MOI.OPTIMAL\n",
    "    println(\"  Solution is optimal\")\n",
    "elseif  termination_status(QuadrotorJMP) == MOI.LOCALLY_SOLVED\n",
    "    println(\"  (Local) solution found\")\n",
    "elseif termination_status(QuadrotorJMP) == MOI.TIME_LIMIT && has_values(QuadrotorJMP)\n",
    "    println(\"  Solution is suboptimal due to a time limit, but a primal solution is available\")\n",
    "else\n",
    "    error(\"  The model was not solved correctly.\")\n",
    "end\n",
    "println(\"  objective value = \", objective_value(QuadrotorJMP))\n",
    "println()"
   ]
  },
  {
   "cell_type": "markdown",
   "metadata": {},
   "source": [
    "## 2. Solving with OptimalControl <a id='oc'></a>"
   ]
  },
  {
   "cell_type": "code",
   "execution_count": 23,
   "metadata": {},
   "outputs": [],
   "source": [
    "using OptimalControl\n",
    "include(\"../Problems/OptimalControl/quadrotor_OC.jl\")\n",
    "QuadrotorOC = quadrotor_OC();"
   ]
  },
  {
   "cell_type": "code",
   "execution_count": 24,
   "metadata": {},
   "outputs": [
    {
     "name": "stdout",
     "output_type": "stream",
     "text": [
      "Method = (:direct, :adnlp, :ipopt)\n",
      "This is Ipopt version 3.14.14, running with linear solver ma57.\n",
      "\n",
      "Number of nonzeros in equality constraint Jacobian...:     5110\n",
      "Number of nonzeros in inequality constraint Jacobian.:      202\n",
      "Number of nonzeros in Lagrangian Hessian.............:     1314\n",
      "\n",
      "Total number of variables............................:     1112\n",
      "                     variables with only lower bounds:        0\n",
      "                variables with lower and upper bounds:      303\n",
      "                     variables with only upper bounds:        0\n",
      "Total number of equality constraints.................:      713\n",
      "Total number of inequality constraints...............:      101\n",
      "        inequality constraints with only lower bounds:      101\n",
      "   inequality constraints with lower and upper bounds:        0\n",
      "        inequality constraints with only upper bounds:        0\n",
      "\n",
      "iter    objective    inf_pr   inf_du lg(mu)  ||d||  lg(rg) alpha_du alpha_pr  ls\n",
      "   0  2.0000000e-01 4.90e+00 1.00e+00   0.0 0.00e+00    -  0.00e+00 0.00e+00   0\n",
      "\n",
      "Number of Iterations....: 0\n",
      "\n",
      "                                   (scaled)                 (unscaled)\n",
      "Objective...............:   2.0000000000000001e-01    2.0000000000000001e-01\n",
      "Dual infeasibility......:   1.0000000000000000e+00    1.0000000000000000e+00\n",
      "Constraint violation....:   4.9000000000000004e+00    4.9000000000000004e+00\n",
      "Variable bound violation:   0.0000000000000000e+00    0.0000000000000000e+00\n",
      "Complementarity.........:   4.5800000458999996e+01    4.5800000458999996e+01\n",
      "Overall NLP error.......:   4.5800000458999996e+01    4.5800000458999996e+01\n",
      "\n",
      "\n",
      "Number of objective function evaluations             = 1\n",
      "Number of objective gradient evaluations             = 1\n",
      "Number of equality constraint evaluations            = 1\n",
      "Number of inequality constraint evaluations          = 1\n",
      "Number of equality constraint Jacobian evaluations   = 1\n",
      "Number of inequality constraint Jacobian evaluations = 1\n",
      "Number of Lagrangian Hessian evaluations             = 0\n",
      "Total seconds in IPOPT                               = 0.250\n",
      "\n",
      "EXIT: Maximum Number of Iterations Exceeded.\n"
     ]
    },
    {
     "data": {
      "text/plain": [
       "CTBase.OptimalControlSolution"
      ]
     },
     "metadata": {},
     "output_type": "display_data"
    }
   ],
   "source": [
    "import HSL_jll\n",
    "# Solve the problem\n",
    "sol = OptimalControl.solve(QuadrotorOC, max_iter = 2,\n",
    "            linear_solver=\"ma57\",hsllib=HSL_jll.libhsl_path)"
   ]
  },
  {
   "cell_type": "code",
   "execution_count": null,
   "metadata": {},
   "outputs": [],
   "source": [
    "plot(sol)"
   ]
  }
 ],
 "metadata": {
  "kernelspec": {
   "display_name": "Julia 1.9.3",
   "language": "julia",
   "name": "julia-1.9"
  },
  "language_info": {
   "file_extension": ".jl",
   "mimetype": "application/julia",
   "name": "julia",
   "version": "1.9.3"
  }
 },
 "nbformat": 4,
 "nbformat_minor": 2
}
