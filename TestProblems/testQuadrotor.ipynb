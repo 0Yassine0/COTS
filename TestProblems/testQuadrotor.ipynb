{
 "cells": [
  {
   "cell_type": "markdown",
   "metadata": {},
   "source": [
    "<div style=\"width:90%;\n",
    "            margin:10px;\n",
    "            padding:8px;\n",
    "            border:2px solid #FF0000;\n",
    "            border-radius:20px;\n",
    "            font-weight:bold;\n",
    "            font-size:2.5em;\n",
    "            text-align:center;\">\n",
    "The Quadrotor Problem\n",
    "</div>\n"
   ]
  },
  {
   "cell_type": "markdown",
   "metadata": {},
   "source": [
    "<div style=\"width:90%;\n",
    "            margin:9px;\n",
    "            font-size:1em;\">\n",
    "            \n",
    "*The Quadrotor Problem:* The goal is to move the quadrotor from a given initial position and orientation to a given final position and orientation in minimum total time while avoiding cylindrical obstacles.                              \n",
    "The problem is inspired from the following paper: [FATROP : A Fast Constrained Optimal Control Problem Solver for Robot Trajectory Optimization and Control](https://arxiv.org/pdf/2303.16746) made for [Casadi](https://web.casadi.org/) software and [Fatrop](https://github.com/meco-group/fatrop) solver.                            \n",
    "We solve the problem using the [JuMP](https://jump.dev/) and [OptimalControl](https://control-toolbox.org/OptimalControl.jl/stable/) packages in Julia then we compare the results.\n",
    "\n",
    "1. [JuMP Formulation](#jump)\n",
    "2. [OptimalControl Formulation](#oc)\n",
    "3. [Comparison](#comp)\n",
    "\n",
    "</div>"
   ]
  },
  {
   "cell_type": "markdown",
   "metadata": {},
   "source": [
    "## 1. Solving with JuMP <a id='jump'></a>"
   ]
  },
  {
   "cell_type": "code",
   "execution_count": 25,
   "metadata": {},
   "outputs": [],
   "source": [
    "using JuMP , Ipopt\n",
    "include(\"../Problems/JuMP/quadrotor_JMP.jl\")\n",
    "QuadrotorJMP = quadrotor_JMP();\n"
   ]
  },
  {
   "cell_type": "code",
   "execution_count": 26,
   "metadata": {},
   "outputs": [],
   "source": [
    "import HSL_jll\n",
    "set_optimizer(QuadrotorJMP,Ipopt.Optimizer)\n",
    "set_attribute(QuadrotorJMP, \"print_level\", 5)\n",
    "set_optimizer_attribute(QuadrotorJMP,\"tol\",1e-8)\n",
    "set_optimizer_attribute(QuadrotorJMP,\"constr_viol_tol\",1e-6)\n",
    "set_optimizer_attribute(QuadrotorJMP,\"max_iter\",1000)\n",
    "set_optimizer_attribute(QuadrotorJMP,\"mu_strategy\",\"adaptive\")\n",
    "set_attribute(QuadrotorJMP, \"hsllib\", HSL_jll.libhsl_path)\n",
    "set_attribute(QuadrotorJMP, \"linear_solver\", \"ma57\")"
   ]
  },
  {
   "cell_type": "code",
   "execution_count": 27,
   "metadata": {},
   "outputs": [
    {
     "name": "stdout",
     "output_type": "stream",
     "text": [
      "Solving...\n",
      "This is Ipopt version 3.14.14, running with linear solver ma57.\n",
      "\n",
      "Number of nonzeros in equality constraint Jacobian...:    59367\n",
      "Number of nonzeros in inequality constraint Jacobian.:      802\n",
      "Number of nonzeros in Lagrangian Hessian.............:  7233157\n",
      "\n",
      "Total number of variables............................:     1011\n",
      "                     variables with only lower bounds:        1\n",
      "                variables with lower and upper bounds:      303\n",
      "                     variables with only upper bounds:        0\n",
      "Total number of equality constraints.................:      617\n",
      "Total number of inequality constraints...............:      301\n",
      "        inequality constraints with only lower bounds:      101\n",
      "   inequality constraints with lower and upper bounds:      200\n",
      "        inequality constraints with only upper bounds:        0\n",
      "\n",
      "iter    objective    inf_pr   inf_du lg(mu)  ||d||  lg(rg) alpha_du alpha_pr  ls\n",
      "   0  1.0100990e-02 5.00e+00 1.02e-05   0.0 0.00e+00    -  0.00e+00 0.00e+00   0\n",
      "   1r 1.0100990e-02 5.00e+00 9.99e+02   0.7 0.00e+00    -  0.00e+00 4.74e-08R  2\n",
      "\n",
      "Number of Iterations....: 1\n",
      "\n",
      "                                   (scaled)                 (unscaled)\n",
      "Objective...............:   1.0100989999999926e-02    1.0100989999999926e-02\n",
      "Dual infeasibility......:   1.0000000000000000e+00    1.0000000000000000e+00\n",
      "Constraint violation....:   5.0000000000000000e+00    5.0000000000000000e+00\n",
      "Variable bound violation:   0.0000000000000000e+00    0.0000000000000000e+00\n",
      "Complementarity.........:   3.5900000458999997e+01    3.5900000458999997e+01\n",
      "Overall NLP error.......:   3.5900000458999997e+01    3.5900000458999997e+01\n",
      "\n",
      "\n",
      "Number of objective function evaluations             = 5\n",
      "Number of objective gradient evaluations             = 3\n",
      "Number of equality constraint evaluations            = 5\n",
      "Number of inequality constraint evaluations          = 5\n",
      "Number of equality constraint Jacobian evaluations   = 3\n",
      "Number of inequality constraint Jacobian evaluations = 3\n",
      "Number of Lagrangian Hessian evaluations             = 1\n",
      "Total seconds in IPOPT                               = 29.466\n",
      "\n",
      "EXIT: Maximum Number of Iterations Exceeded.\n",
      "\n"
     ]
    }
   ],
   "source": [
    "println(\"Solving...\")\n",
    "optimize!(QuadrotorJMP)\n",
    "println()"
   ]
  },
  {
   "cell_type": "code",
   "execution_count": null,
   "metadata": {},
   "outputs": [],
   "source": [
    "# Display results\n",
    "if termination_status(QuadrotorJMP) == MOI.OPTIMAL\n",
    "    println(\"  Solution is optimal\")\n",
    "elseif  termination_status(QuadrotorJMP) == MOI.LOCALLY_SOLVED\n",
    "    println(\"  (Local) solution found\")\n",
    "elseif termination_status(QuadrotorJMP) == MOI.TIME_LIMIT && has_values(QuadrotorJMP)\n",
    "    println(\"  Solution is suboptimal due to a time limit, but a primal solution is available\")\n",
    "else\n",
    "    error(\"  The model was not solved correctly.\")\n",
    "end\n",
    "println(\"  objective value = \", objective_value(QuadrotorJMP))\n",
    "println()"
   ]
  },
  {
   "cell_type": "markdown",
   "metadata": {},
   "source": [
    "## 2. Solving with OptimalControl <a id='oc'></a>"
   ]
  },
  {
   "cell_type": "code",
   "execution_count": 23,
   "metadata": {},
   "outputs": [],
   "source": [
    "using OptimalControl\n",
    "include(\"../Problems/OptimalControl/quadrotor_OC.jl\")\n",
    "QuadrotorOC = quadrotor_OC();"
   ]
  },
  {
   "cell_type": "code",
   "execution_count": 24,
   "metadata": {},
   "outputs": [
    {
     "name": "stdout",
     "output_type": "stream",
     "text": [
      "Method = (:direct, :adnlp, :ipopt)\n",
      "This is Ipopt version 3.14.14, running with linear solver ma57.\n",
      "\n",
      "Number of nonzeros in equality constraint Jacobian...:     5110\n",
      "Number of nonzeros in inequality constraint Jacobian.:      202\n",
      "Number of nonzeros in Lagrangian Hessian.............:     1314\n",
      "\n",
      "Total number of variables............................:     1112\n",
      "                     variables with only lower bounds:        0\n",
      "                variables with lower and upper bounds:      303\n",
      "                     variables with only upper bounds:        0\n",
      "Total number of equality constraints.................:      713\n",
      "Total number of inequality constraints...............:      101\n",
      "        inequality constraints with only lower bounds:      101\n",
      "   inequality constraints with lower and upper bounds:        0\n",
      "        inequality constraints with only upper bounds:        0\n",
      "\n",
      "iter    objective    inf_pr   inf_du lg(mu)  ||d||  lg(rg) alpha_du alpha_pr  ls\n",
      "   0  2.0000000e-01 4.90e+00 1.00e+00   0.0 0.00e+00    -  0.00e+00 0.00e+00   0\n",
      "\n",
      "Number of Iterations....: 0\n",
      "\n",
      "                                   (scaled)                 (unscaled)\n",
      "Objective...............:   2.0000000000000001e-01    2.0000000000000001e-01\n",
      "Dual infeasibility......:   1.0000000000000000e+00    1.0000000000000000e+00\n",
      "Constraint violation....:   4.9000000000000004e+00    4.9000000000000004e+00\n",
      "Variable bound violation:   0.0000000000000000e+00    0.0000000000000000e+00\n",
      "Complementarity.........:   4.5800000458999996e+01    4.5800000458999996e+01\n",
      "Overall NLP error.......:   4.5800000458999996e+01    4.5800000458999996e+01\n",
      "\n",
      "\n",
      "Number of objective function evaluations             = 1\n",
      "Number of objective gradient evaluations             = 1\n",
      "Number of equality constraint evaluations            = 1\n",
      "Number of inequality constraint evaluations          = 1\n",
      "Number of equality constraint Jacobian evaluations   = 1\n",
      "Number of inequality constraint Jacobian evaluations = 1\n",
      "Number of Lagrangian Hessian evaluations             = 0\n",
      "Total seconds in IPOPT                               = 0.250\n",
      "\n",
      "EXIT: Maximum Number of Iterations Exceeded.\n"
     ]
    },
    {
     "data": {
      "text/plain": [
       "CTBase.OptimalControlSolution"
      ]
     },
     "metadata": {},
     "output_type": "display_data"
    }
   ],
   "source": [
    "import HSL_jll\n",
    "# Solve the problem\n",
    "sol = OptimalControl.solve(QuadrotorOC, max_iter = 2,\n",
    "            linear_solver=\"ma57\",hsllib=HSL_jll.libhsl_path)"
   ]
  },
  {
   "cell_type": "code",
   "execution_count": null,
   "metadata": {},
   "outputs": [],
   "source": [
    "plot(sol)"
   ]
  }
 ],
 "metadata": {
  "kernelspec": {
   "display_name": "Julia 1.9.3",
   "language": "julia",
   "name": "julia-1.9"
  },
  "language_info": {
   "file_extension": ".jl",
   "mimetype": "application/julia",
   "name": "julia",
   "version": "1.9.3"
  }
 },
 "nbformat": 4,
 "nbformat_minor": 2
}
