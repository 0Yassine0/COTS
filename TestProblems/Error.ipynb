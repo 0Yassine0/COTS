{
 "cells": [
  {
   "cell_type": "code",
   "execution_count": 1,
   "metadata": {},
   "outputs": [
    {
     "name": "stderr",
     "output_type": "stream",
     "text": [
      "\u001b[32m\u001b[1m  Activating\u001b[22m\u001b[39m project at `c:\\Users\\hajje\\Dropbox\\PC\\Desktop\\Stage\\COTS`\n"
     ]
    }
   ],
   "source": [
    "import Pkg\n",
    "Pkg.activate(\"..\")"
   ]
  },
  {
   "cell_type": "code",
   "execution_count": 2,
   "metadata": {},
   "outputs": [
    {
     "name": "stdout",
     "output_type": "stream",
     "text": [
      "\u001b[32m\u001b[1mStatus\u001b[22m\u001b[39m `C:\\Users\\hajje\\Dropbox\\PC\\Desktop\\Stage\\COTS\\Project.toml`\n",
      "  \u001b[90m[6e4b80f9] \u001b[39mBenchmarkTools v1.5.0\n",
      "  \u001b[90m[5ae59095] \u001b[39mColors v0.12.11\n",
      "  \u001b[90m[38540f10] \u001b[39mCommonSolve v0.2.4\n",
      "  \u001b[90m[a93c6f00] \u001b[39mDataFrames v1.6.1\n",
      "  \u001b[90m[1037b233] \u001b[39mExaModels v0.7.1\n",
      "  \u001b[90m[34c5aeac] \u001b[39mHSL v0.4.3\n",
      "  \u001b[90m[7073ff75] \u001b[39mIJulia v1.25.0\n",
      "  \u001b[90m[a98d9a8b] \u001b[39mInterpolations v0.15.1\n",
      "  \u001b[90m[b6b21f68] \u001b[39mIpopt v1.6.3\n",
      "  \u001b[90m[4076af6c] \u001b[39mJuMP v1.22.2\n",
      "  \u001b[90m[67920dd8] \u001b[39mKNITRO v0.14.2\n",
      "  \u001b[90m[2621e9c9] \u001b[39mMadNLP v0.8.3\n",
      "  \u001b[90m[7fb6135f] \u001b[39mMadNLPHSL v0.5.2\n",
      "  \u001b[90m[b8f27783] \u001b[39mMathOptInterface v1.31.0\n",
      "  \u001b[90m[309f4015] \u001b[39mMathOptSymbolicAD v0.1.3\n",
      "  \u001b[90m[f4238b75] \u001b[39mNLPModelsIpopt v0.10.2\n",
      "  \u001b[90m[5f98b655] \u001b[39mOptimalControl v0.9.0\n",
      "  \u001b[90m[91a5bcdd] \u001b[39mPlots v1.40.5\n",
      "  \u001b[90m[08abe8d2] \u001b[39mPrettyTables v2.3.2\n",
      "  \u001b[90m[017b0a0e] \u001b[39mHSL_jll v2023.11.7+0 `C:/Users/hajje/Dropbox/PC/Desktop/Stage/COTS/lbt_HSL_jll.jl-2023.11.7/HSL_jll.jl-2023.11.7/`\n"
     ]
    }
   ],
   "source": [
    "Pkg.status()"
   ]
  },
  {
   "cell_type": "code",
   "execution_count": 3,
   "metadata": {},
   "outputs": [
    {
     "data": {
      "text/plain": [
       "\n",
       "\u001b[0m\u001b[1mThe \u001b[22m\u001b[0m\u001b[1m(autonomous) \u001b[22m\u001b[0m\u001b[1moptimal control problem is given by:\u001b[22m\n",
       "\n",
       "    t ∈ [0, 1], time\n",
       "    x ∈ R², state\n",
       "    u ∈ R, control\n",
       "    x(0) == [-1, 0]\n",
       "    x(1) == [0, 0]\n",
       "    ẋ(t) == [x₂(t), u(t)]\n",
       "    ∫(0.5 * u(t) ^ 2) → min\n",
       "\n",
       "\u001b[0m\u001b[1mThe \u001b[22m\u001b[0m\u001b[1m(autonomous) \u001b[22m\u001b[0m\u001b[1moptimal control problem is of the form:\u001b[22m\n",
       "\n",
       "\u001b[34m    minimize  \u001b[39mJ(x, u) = ∫ f⁰(x(t), u(t)) dt, over [0, 1]\n",
       "\n",
       "\u001b[34m    subject to\u001b[39m\n",
       "\n",
       "        ẋ(t) = f(x(t), u(t)), t in [0, 1] a.e.,\n",
       "\n",
       "        ϕl ≤ ϕ(x(0), x(1)) ≤ ϕu, \n",
       "\n",
       "    where x(t) ∈ R² and u(t) ∈ R.\n",
       "\n",
       "\u001b[0m\u001b[1mDeclarations \u001b[22m\u001b[0m(* required):\n",
       "╭────────┬────────┬──────────┬──────────┬───────────┬────────────┬─────────────╮\n",
       "│\u001b[33m times* \u001b[0m│\u001b[33m state* \u001b[0m│\u001b[33m control* \u001b[0m│\u001b[33m variable \u001b[0m│\u001b[33m dynamics* \u001b[0m│\u001b[33m objective* \u001b[0m│\u001b[33m constraints \u001b[0m│\n",
       "├────────┼────────┼──────────┼──────────┼───────────┼────────────┼─────────────┤\n",
       "│\u001b[32;1m   V    \u001b[0m│\u001b[32;1m   V    \u001b[0m│\u001b[32;1m    V     \u001b[0m│\u001b[31;1m    X     \u001b[0m│\u001b[32;1m     V     \u001b[0m│\u001b[32;1m     V      \u001b[0m│\u001b[32;1m      V      \u001b[0m│\n",
       "╰────────┴────────┴──────────┴──────────┴───────────┴────────────┴─────────────╯\n"
      ]
     },
     "metadata": {},
     "output_type": "display_data"
    },
    {
     "name": "stdout",
     "output_type": "stream",
     "text": [
      "\n"
     ]
    }
   ],
   "source": [
    "using OptimalControl\n",
    "\n",
    "@def ocp begin\n",
    "    t ∈ [ 0, 1 ], time\n",
    "    x ∈ R², state\n",
    "    u ∈ R, control\n",
    "    x(0) == [ -1, 0 ]\n",
    "    x(1) == [ 0, 0 ]\n",
    "    ẋ(t) == [ x₂(t), u(t) ]\n",
    "    ∫( 0.5u(t)^2 ) → min\n",
    "end"
   ]
  },
  {
   "cell_type": "code",
   "execution_count": 4,
   "metadata": {},
   "outputs": [
    {
     "name": "stdout",
     "output_type": "stream",
     "text": [
      "Method = (:direct, :adnlp, :ipopt)\n"
     ]
    },
    {
     "ename": "MethodError",
     "evalue": "MethodError: no method matching init(::CTBase.OptimalControlModel{Autonomous, Fixed}, ::Symbol, ::Symbol; display::Bool, init::Tuple{})",
     "output_type": "error",
     "traceback": [
      "MethodError: no method matching init(::CTBase.OptimalControlModel{Autonomous, Fixed}, ::Symbol, ::Symbol; display::Bool, init::Tuple{})\n",
      "\n",
      "Stacktrace:\n",
      " [1] solve(::CTBase.OptimalControlModel{Autonomous, Fixed}, ::Vararg{Any}; kwargs::@Kwargs{display::Bool, init::Tuple{}})\n",
      "   @ CommonSolve C:\\Users\\hajje\\.julia\\packages\\CommonSolve\\JfpfI\\src\\CommonSolve.jl:23\n",
      " [2] solve(::CTBase.OptimalControlModel{Autonomous, Fixed}; display::Bool, init::Tuple{}, kwargs::@Kwargs{})\n",
      "   @ OptimalControl C:\\Users\\hajje\\.julia\\packages\\OptimalControl\\lnIRA\\src\\solve.jl:80\n",
      " [3] solve(::CTBase.OptimalControlModel{Autonomous, Fixed})\n",
      "   @ OptimalControl C:\\Users\\hajje\\.julia\\packages\\OptimalControl\\lnIRA\\src\\solve.jl:67\n",
      " [4] top-level scope\n",
      "   @ c:\\Users\\hajje\\Dropbox\\PC\\Desktop\\Stage\\COTS\\TestProblems\\Error.ipynb:1"
     ]
    }
   ],
   "source": [
    "sol = solve(ocp)"
   ]
  }
 ],
 "metadata": {
  "kernelspec": {
   "display_name": "Julia 1.10.4",
   "language": "julia",
   "name": "julia-1.10"
  },
  "language_info": {
   "file_extension": ".jl",
   "mimetype": "application/julia",
   "name": "julia",
   "version": "1.10.4"
  }
 },
 "nbformat": 4,
 "nbformat_minor": 2
}
