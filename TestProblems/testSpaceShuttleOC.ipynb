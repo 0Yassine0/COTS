{
 "cells": [
  {
   "cell_type": "markdown",
   "metadata": {},
   "source": [
    "# Using OptimalControl Model"
   ]
  },
  {
   "cell_type": "code",
   "execution_count": 1,
   "metadata": {},
   "outputs": [
    {
     "data": {
      "text/plain": [
       "\n",
       "\u001b[0m\u001b[1mThe \u001b[22m\u001b[0m\u001b[1m(autonomous) \u001b[22m\u001b[0m\u001b[1moptimal control problem is given by:\u001b[22m\n",
       "\n",
       "    w = 203000.0\n",
       "    g₀ = 32.174\n",
       "    m = w / g₀\n",
       "    ρ₀ = 0.002378\n",
       "    hᵣ = 23800.0\n",
       "    Rₑ = 2.09029e7\n",
       "    μ = 1.4076539e16\n",
       "    S = 2690.0\n",
       "    a₀ = -0.20704\n",
       "    a₁ = 0.029244\n",
       "    b₀ = 0.07854\n",
       "    b₁ = -0.0061592\n",
       "    b₂ = 0.000621408\n",
       "    c₀ = 1.0672181\n",
       "    c₁ = -0.019213774\n",
       "    c₂ = 0.00021286289\n",
       "    c₃ = -1.0117249e-6\n",
       "    h_s = 2.6 * 100000.0\n",
       "    ϕ_s = deg2rad(0)\n",
       "    θ_s = deg2rad(0)\n",
       "    v_s = 2.56 * 10000.0\n",
       "    γ_s = deg2rad(-1)\n",
       "    ψ_s = deg2rad(90)\n",
       "    α_s = deg2rad(0)\n",
       "    β_s = deg2rad(0)\n",
       "    t_s = 1.0\n",
       "    h_t = 0.8 * 100000.0\n",
       "    v_t = 0.25 * 10000.0\n",
       "    γ_t = deg2rad(-5)\n",
       "    tf = 2009.0\n",
       "    t0 = 0.0\n",
       "    t ∈ [t0, tf], time\n",
       "    x ∈ R⁶, state\n",
       "    u ∈ R², control\n",
       "    h = x₁\n",
       "    ϕ = x₂\n",
       "    θ = x₃\n",
       "    v = x₄\n",
       "    γ = x₅\n",
       "    ψ = x₆\n",
       "    α = u₁\n",
       "    β = u₂\n",
       "    h(t) ≥ 0, h_con\n",
       "    deg2rad(-89) ≤ θ(t) ≤ deg2rad(89), θ_con\n",
       "    v(t) ≥ 0.0001, v_con\n",
       "    deg2rad(-89) ≤ γ(t) ≤ deg2rad(89), γ_con\n",
       "    deg2rad(-89) ≤ β(t) ≤ deg2rad(1), β_con\n",
       "    deg2rad(-90) ≤ α(t) ≤ deg2rad(90), α_con\n",
       "    h(t0) == h_s, h0_con\n",
       "    ϕ(t0) == ϕ_s, ϕ0_con\n",
       "    θ(t0) == θ_s, θ0_con\n",
       "    v(t0) == v_s, v0_con\n",
       "    γ(t0) == γ_s, γ0_con\n",
       "    ψ(t0) == ψ_s, ψ0_con\n",
       "    h(tf) == h_t, hf_con\n",
       "    v(tf) == v_t, vf_con\n",
       "    γ(tf) == γ_t, γf_con\n",
       "    ẋ(t) == dynamics(x(t), u(t))\n",
       "    θ(tf) → max\n",
       "\n",
       "\u001b[0m\u001b[1mThe \u001b[22m\u001b[0m\u001b[1m(autonomous) \u001b[22m\u001b[0m\u001b[1moptimal control problem is of the form:\u001b[22m\n",
       "\n",
       "\u001b[34m    minimize  \u001b[39mJ(x, u) = g(x(0.0), x(2009.0))\n",
       "\n",
       "\u001b[34m    subject to\u001b[39m\n",
       "\n",
       "        ẋ(t) = f(x(t), u(t)), t in [0.0, 2009.0] a.e.,\n",
       "\n",
       "        ηl ≤ η(x(t)) ≤ ηu, \n",
       "        ϕl ≤ ϕ(x(0.0), x(2009.0)) ≤ ϕu, \n",
       "\n",
       "    where x(t) ∈ R⁶ and u(t) ∈ R².\n",
       "\n",
       "\u001b[0m\u001b[1mDeclarations \u001b[22m\u001b[0m(* required):\n"
      ]
     },
     "metadata": {},
     "output_type": "display_data"
    },
    {
     "name": "stdout",
     "output_type": "stream",
     "text": [
      "\n",
      "┌────────┬────────┬──────────┬──────────┬───────────┬────────────┬─────────────┐\n",
      "│\u001b[33m times* \u001b[0m│\u001b[33m state* \u001b[0m│\u001b[33m control* \u001b[0m│\u001b[33m variable \u001b[0m│\u001b[33m dynamics* \u001b[0m│\u001b[33m objective* \u001b[0m│\u001b[33m constraints \u001b[0m│\n",
      "├────────┼────────┼──────────┼──────────┼───────────┼────────────┼─────────────┤\n",
      "│     ✅ │     ✅ │       ✅ │       ❌ │        ✅ │         ✅ │          ✅ │\n",
      "└────────┴────────┴──────────┴──────────┴───────────┴────────────┴─────────────┘\n"
     ]
    }
   ],
   "source": [
    "using OptimalControl\n",
    "include(\"../Problems/OptimalControl/space_Shuttle_OC.jl\")\n",
    "SpaceShuttleOC = space_Shuttle_OC()"
   ]
  },
  {
   "cell_type": "code",
   "execution_count": 2,
   "metadata": {},
   "outputs": [
    {
     "data": {
      "text/plain": [
       "OCPInit(CTBase.var\"#237#244\"{Nothing}(nothing), CTBase.var\"#239#246\"{Nothing}(nothing), nothing, #undef, #undef, :constant_or_function)"
      ]
     },
     "metadata": {},
     "output_type": "display_data"
    }
   ],
   "source": [
    "import Interpolations\n",
    "using CTBase\n",
    " ## Initial conditions\n",
    " h_s = 2.6          # altitude (ft) / 1e5\n",
    " ϕ_s = deg2rad(0)   # longitude (rad)\n",
    " θ_s = deg2rad(0)   # latitude (rad)\n",
    " v_s = 2.56         # velocity (ft/sec) / 1e4\n",
    " γ_s = deg2rad(-1)  # flight path angle (rad)\n",
    " ψ_s = deg2rad(90)  # azimuth (rad)\n",
    " α_s = deg2rad(0)   # angle of attack (rad)\n",
    " β_s = deg2rad(0)   # bank angle (rad)\n",
    " t_s = 1.00         # time step (sec)\n",
    "\n",
    " ## Final conditions, the so-called Terminal Area Energy Management (TAEM)\n",
    " h_t = 0.8          # altitude (ft) / 1e5\n",
    " v_t = 0.25         # velocity (ft/sec) / 1e4\n",
    " γ_t = deg2rad(-5)  # flight path angle (rad)\n",
    "\n",
    " ## Number of mesh points (knots) to be used\n",
    " n = 503\n",
    "\n",
    "x_s = [h_s, ϕ_s, θ_s, v_s, γ_s, ψ_s, α_s, β_s]\n",
    "x_t = [h_t, ϕ_s, θ_s, v_t, γ_t, ψ_s, α_s, β_s]\n",
    "interp_linear = Interpolations.LinearInterpolation([1, n], [x_s, x_t])\n",
    "initial_guess = mapreduce(transpose, vcat, interp_linear.(1:n))\n",
    "\n",
    "xinit = initial_guess[:,1:6]\n",
    "uinit = initial_guess[:,7:8]\n",
    "\n",
    "init = CTBase.OCPInit((x_init = xinit,u_init = uinit))\n"
   ]
  },
  {
   "cell_type": "code",
   "execution_count": 3,
   "metadata": {},
   "outputs": [],
   "source": [
    "import HSL_jll\n",
    "sol = OptimalControl.solve(SpaceShuttleOC,init=init,\n",
    "                            linear_solver=\"ma57\",hsllib=HSL_jll.libhsl_path)"
   ]
  }
 ],
 "metadata": {
  "kernelspec": {
   "display_name": "Julia 1.9.3",
   "language": "julia",
   "name": "julia-1.9"
  },
  "language_info": {
   "file_extension": ".jl",
   "mimetype": "application/julia",
   "name": "julia",
   "version": "1.9.3"
  }
 },
 "nbformat": 4,
 "nbformat_minor": 2
}
