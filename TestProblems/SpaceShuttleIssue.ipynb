{
 "cells": [
  {
   "cell_type": "markdown",
   "metadata": {},
   "source": [
    "# Comparing different solver \n",
    "(**Rectangular integration** )"
   ]
  },
  {
   "cell_type": "markdown",
   "metadata": {},
   "source": [
    "### Importing the Model"
   ]
  },
  {
   "cell_type": "code",
   "execution_count": 1,
   "metadata": {},
   "outputs": [
    {
     "data": {
      "text/plain": [
       "space_Shuttle_JMP (generic function with 2 methods)"
      ]
     },
     "metadata": {},
     "output_type": "display_data"
    }
   ],
   "source": [
    "using JuMP , Ipopt\n",
    "import HSL_jll\n",
    "include(\"../Problems/JuMP/space_Shuttle_JMP.jl\")"
   ]
  },
  {
   "cell_type": "markdown",
   "metadata": {},
   "source": [
    "## Comparing Linear Solvers : HSL_MA57, HSL_MA27 and MUMPS"
   ]
  },
  {
   "cell_type": "markdown",
   "metadata": {},
   "source": [
    "#### 1. MUMPS"
   ]
  },
  {
   "cell_type": "code",
   "execution_count": 2,
   "metadata": {},
   "outputs": [
    {
     "name": "stdout",
     "output_type": "stream",
     "text": [
      "\n",
      "******************************************************************************\n",
      "This program contains Ipopt, a library for large-scale nonlinear optimization.\n",
      " Ipopt is released as open source code under the Eclipse Public License (EPL).\n",
      "         For more information visit https://github.com/coin-or/Ipopt\n",
      "******************************************************************************\n",
      "\n",
      "Final latitude θ = 34.1790697°\n"
     ]
    }
   ],
   "source": [
    "model = space_Shuttle_JMP();\n",
    "set_silent(model)\n",
    "set_optimizer(model,Ipopt.Optimizer)\n",
    "set_optimizer_attribute(model,\"linear_solver\", \"mumps\")\n",
    "optimize!(model);\n",
    "println(\n",
    "    \"Final latitude θ = \",\n",
    "    round(objective_value(model) |> rad2deg;digits=7),\n",
    "    \"°\",\n",
    ")"
   ]
  },
  {
   "cell_type": "markdown",
   "metadata": {},
   "source": [
    "#### 2. HSL_MA57"
   ]
  },
  {
   "cell_type": "code",
   "execution_count": 3,
   "metadata": {},
   "outputs": [
    {
     "name": "stdout",
     "output_type": "stream",
     "text": [
      "Final latitude θ = 34.1790697°\n"
     ]
    }
   ],
   "source": [
    "import HSL_jll\n",
    "model = space_Shuttle_JMP();\n",
    "set_silent(model)\n",
    "set_optimizer(model,Ipopt.Optimizer)\n",
    "set_attribute(model, \"hsllib\", HSL_jll.libhsl_path)\n",
    "set_attribute(model, \"linear_solver\", \"ma57\")\n",
    "optimize!(model)  # Solve for the control and state\n",
    "@assert is_solved_and_feasible(model)\n",
    "\n",
    "println(\n",
    "    \"Final latitude θ = \",\n",
    "    round(objective_value(model) |> rad2deg;digits=7),\n",
    "    \"°\",\n",
    ")"
   ]
  },
  {
   "cell_type": "markdown",
   "metadata": {},
   "source": [
    "#### 3. HSL_MA27"
   ]
  },
  {
   "cell_type": "code",
   "execution_count": 4,
   "metadata": {},
   "outputs": [
    {
     "name": "stdout",
     "output_type": "stream",
     "text": [
      "Final latitude θ = 34.1790697°\n"
     ]
    }
   ],
   "source": [
    "import HSL_jll\n",
    "model = space_Shuttle_JMP();\n",
    "set_silent(model)\n",
    "set_optimizer(model,Ipopt.Optimizer)\n",
    "set_attribute(model, \"hsllib\", HSL_jll.libhsl_path)\n",
    "set_attribute(model, \"linear_solver\", \"ma27\")\n",
    "optimize!(model)  # Solve for the control and state\n",
    "@assert is_solved_and_feasible(model)\n",
    "\n",
    "println(\n",
    "    \"Final latitude θ = \",\n",
    "    round(objective_value(model) |> rad2deg;digits=7),\n",
    "    \"°\",\n",
    ")"
   ]
  },
  {
   "cell_type": "markdown",
   "metadata": {},
   "source": [
    ">>>#### These 3 linear solvers give the same results for the rectangular integration problem.\n"
   ]
  },
  {
   "cell_type": "markdown",
   "metadata": {},
   "source": [
    "## Comparing Nonlinear Solvers : Ipopt, MadNLP and Knitro"
   ]
  },
  {
   "cell_type": "markdown",
   "metadata": {},
   "source": [
    "#### 1. Ipopt"
   ]
  },
  {
   "cell_type": "markdown",
   "metadata": {},
   "source": [
    "> The reference solver is Ipopt with HSL_MA57 linear solver."
   ]
  },
  {
   "cell_type": "code",
   "execution_count": 5,
   "metadata": {},
   "outputs": [
    {
     "name": "stdout",
     "output_type": "stream",
     "text": [
      "Final latitude θ = 34.1790697°\n"
     ]
    }
   ],
   "source": [
    "import HSL_jll\n",
    "model = space_Shuttle_JMP();\n",
    "set_silent(model)\n",
    "set_optimizer(model,Ipopt.Optimizer)\n",
    "set_attribute(model, \"hsllib\", HSL_jll.libhsl_path)\n",
    "set_attribute(model, \"linear_solver\", \"ma57\")\n",
    "optimize!(model)  # Solve for the control and state\n",
    "println(\n",
    "    \"Final latitude θ = \",\n",
    "    round(objective_value(model) |> rad2deg;digits=7),\n",
    "    \"°\",\n",
    ")"
   ]
  },
  {
   "cell_type": "markdown",
   "metadata": {},
   "source": [
    "#### 2. MadNLP"
   ]
  },
  {
   "cell_type": "code",
   "execution_count": 6,
   "metadata": {},
   "outputs": [
    {
     "name": "stdout",
     "output_type": "stream",
     "text": [
      "Final latitude θ = 34.166426°\n"
     ]
    }
   ],
   "source": [
    "using  MadNLP\n",
    "model = space_Shuttle_JMP();\n",
    "set_silent(model)\n",
    "set_optimizer(model,MadNLP.Optimizer)\n",
    "optimize!(model)  # Solve for the control and state\n",
    "println(\n",
    "    \"Final latitude θ = \",\n",
    "    round(objective_value(model) |> rad2deg;digits=7),\n",
    "    \"°\",\n",
    ")\n"
   ]
  },
  {
   "cell_type": "markdown",
   "metadata": {},
   "source": [
    "> the problem for not finding the same solutions with Ipopt + HSL_MA57 and MadNLP comes from the linear solvers used . MadNLP uses Umfpack by default, while we use HSL_MA57 with Ipopt."
   ]
  },
  {
   "cell_type": "code",
   "execution_count": 7,
   "metadata": {},
   "outputs": [
    {
     "name": "stdout",
     "output_type": "stream",
     "text": [
      "Final latitude θ = 34.1790697°\n"
     ]
    }
   ],
   "source": [
    "using  MadNLP\n",
    "using MadNLPHSL\n",
    "model = space_Shuttle_JMP();\n",
    "set_silent(model)\n",
    "set_optimizer(model,()->MadNLP.Optimizer(linear_solver=Ma57Solver))\n",
    "optimize!(model)  # Solve for the control and state\n",
    "println(\n",
    "    \"Final latitude θ = \",\n",
    "    round(objective_value(model) |> rad2deg;digits=7),\n",
    "    \"°\",\n",
    ")"
   ]
  }
 ],
 "metadata": {
  "kernelspec": {
   "display_name": "Julia 1.9.3",
   "language": "julia",
   "name": "julia-1.9"
  },
  "language_info": {
   "file_extension": ".jl",
   "mimetype": "application/julia",
   "name": "julia",
   "version": "1.9.3"
  }
 },
 "nbformat": 4,
 "nbformat_minor": 2
}
