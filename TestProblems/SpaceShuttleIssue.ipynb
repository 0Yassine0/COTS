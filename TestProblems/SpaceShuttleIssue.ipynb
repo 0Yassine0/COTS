{
 "cells": [
  {
   "cell_type": "markdown",
   "metadata": {},
   "source": [
    "# Comparing different solver \n",
    "(**Rectangular integration** )"
   ]
  },
  {
   "cell_type": "markdown",
   "metadata": {},
   "source": [
    "### Importing the Model"
   ]
  },
  {
   "cell_type": "code",
   "execution_count": 1,
   "metadata": {},
   "outputs": [],
   "source": [
    "using JuMP , Ipopt\n",
    "import HSL_jll\n",
    "using DataFrames, BenchmarkTools\n",
    "include(\"../Problems/JuMP/space_Shuttle_JMP.jl\")\n",
    "include(\"../Benchmark/utils.jl\")\n",
    "results = DataFrame( :method => String[], \n",
    "                    :total_time => String[],\n",
    "                    :objective_value => Float64[],\n",
    "                    :iterations => Int64[]);\n"
   ]
  },
  {
   "cell_type": "markdown",
   "metadata": {},
   "source": [
    "## Comparing Linear Solvers : HSL_MA57, HSL_MA27 and MUMPS"
   ]
  },
  {
   "cell_type": "markdown",
   "metadata": {},
   "source": [
    "#### 1. MUMPS"
   ]
  },
  {
   "cell_type": "code",
   "execution_count": 2,
   "metadata": {},
   "outputs": [
    {
     "name": "stdout",
     "output_type": "stream",
     "text": [
      "\n",
      "******************************************************************************\n",
      "This program contains Ipopt, a library for large-scale nonlinear optimization.\n",
      " Ipopt is released as open source code under the Eclipse Public License (EPL).\n",
      "         For more information visit https://github.com/coin-or/Ipopt\n",
      "******************************************************************************\n",
      "\n",
      "Final latitude θ = 34.1790697°\n"
     ]
    }
   ],
   "source": [
    "model = space_Shuttle_JMP();\n",
    "set_silent(model)\n",
    "set_optimizer(model,Ipopt.Optimizer)\n",
    "set_optimizer_attribute(model,\"linear_solver\", \"mumps\")\n",
    "b = @benchmark optimize!(model) evals=1 samples=1\n",
    "println(\n",
    "    \"Final latitude θ = \",\n",
    "    round(objective_value(model) |> rad2deg;digits=7),\n",
    "    \"°\",\n",
    ")\n",
    "push!(results,[\"Ipopt + MUMPS\",\n",
    "                prettytime(b.times[1]),\n",
    "                round(objective_value(model) |> rad2deg;digits=7),\n",
    "                solution_summary(model).barrier_iterations\n",
    "                ]);"
   ]
  },
  {
   "cell_type": "markdown",
   "metadata": {},
   "source": [
    "#### 2. HSL_MA57"
   ]
  },
  {
   "cell_type": "code",
   "execution_count": 3,
   "metadata": {},
   "outputs": [
    {
     "name": "stdout",
     "output_type": "stream",
     "text": [
      "Final latitude θ = 34.1790697°\n"
     ]
    }
   ],
   "source": [
    "import HSL_jll\n",
    "model = space_Shuttle_JMP();\n",
    "set_silent(model)\n",
    "set_optimizer(model,Ipopt.Optimizer)\n",
    "set_attribute(model, \"hsllib\", HSL_jll.libhsl_path)\n",
    "set_attribute(model, \"linear_solver\", \"ma57\")\n",
    "b = @benchmark optimize!(model) evals=1 samples=1\n",
    "println(\n",
    "    \"Final latitude θ = \",\n",
    "    round(objective_value(model) |> rad2deg;digits=7),\n",
    "    \"°\",\n",
    ")\n",
    "push!(results,[\"Ipopt + HSL_MA57\",\n",
    "                prettytime(b.times[1]),\n",
    "                round(objective_value(model) |> rad2deg;digits=7),\n",
    "                solution_summary(model).barrier_iterations\n",
    "                ]);"
   ]
  },
  {
   "cell_type": "markdown",
   "metadata": {},
   "source": [
    "#### 3. HSL_MA27"
   ]
  },
  {
   "cell_type": "code",
   "execution_count": 4,
   "metadata": {},
   "outputs": [
    {
     "name": "stdout",
     "output_type": "stream",
     "text": [
      "Final latitude θ = 34.1790697°\n"
     ]
    }
   ],
   "source": [
    "import HSL_jll\n",
    "model = space_Shuttle_JMP();\n",
    "set_silent(model)\n",
    "set_optimizer(model,Ipopt.Optimizer)\n",
    "set_attribute(model, \"hsllib\", HSL_jll.libhsl_path)\n",
    "set_attribute(model, \"linear_solver\", \"ma27\")\n",
    "b = @benchmark optimize!(model) evals=1 samples=1\n",
    "println(\n",
    "    \"Final latitude θ = \",\n",
    "    round(objective_value(model) |> rad2deg;digits=7),\n",
    "    \"°\",\n",
    ")\n",
    "push!(results,[\"Ipopt + HSL_MA27\",\n",
    "                prettytime(b.times[1]),\n",
    "                round(objective_value(model) |> rad2deg;digits=7),\n",
    "                solution_summary(model).barrier_iterations\n",
    "                ]);"
   ]
  },
  {
   "cell_type": "markdown",
   "metadata": {},
   "source": [
    ">>>#### These 3 linear solvers give the same results for the rectangular integration problem.\n"
   ]
  },
  {
   "cell_type": "markdown",
   "metadata": {},
   "source": [
    "## Comparing Nonlinear Solvers : Ipopt, MadNLP and Knitro"
   ]
  },
  {
   "cell_type": "markdown",
   "metadata": {},
   "source": [
    "#### 1. Ipopt"
   ]
  },
  {
   "cell_type": "markdown",
   "metadata": {},
   "source": [
    "> The reference solver is Ipopt with HSL_MA57 linear solver."
   ]
  },
  {
   "cell_type": "code",
   "execution_count": null,
   "metadata": {},
   "outputs": [],
   "source": [
    "import HSL_jll\n",
    "model = space_Shuttle_JMP();\n",
    "set_silent(model)\n",
    "set_optimizer(model,Ipopt.Optimizer)\n",
    "set_attribute(model, \"hsllib\", HSL_jll.libhsl_path)\n",
    "set_attribute(model, \"linear_solver\", \"ma57\")\n",
    "optimize!(model)  # Solve for the control and state\n",
    "println(\n",
    "    \"Final latitude θ = \",\n",
    "    round(objective_value(model) |> rad2deg;digits=7),\n",
    "    \"°\",\n",
    ")"
   ]
  },
  {
   "cell_type": "markdown",
   "metadata": {},
   "source": [
    "#### 2. MadNLP"
   ]
  },
  {
   "cell_type": "code",
   "execution_count": 5,
   "metadata": {},
   "outputs": [
    {
     "name": "stdout",
     "output_type": "stream",
     "text": [
      "Final latitude θ = 34.166426°\n"
     ]
    }
   ],
   "source": [
    "using  MadNLP\n",
    "model = space_Shuttle_JMP();\n",
    "set_silent(model)\n",
    "set_optimizer(model,MadNLP.Optimizer) #default linear solver : Umfpack\n",
    "b = @benchmark optimize!(model) evals=1 samples=1\n",
    "println(\n",
    "    \"Final latitude θ = \",\n",
    "    round(objective_value(model) |> rad2deg;digits=7),\n",
    "    \"°\",\n",
    ")\n",
    "push!(results,[\"MadNLP + Umfpack\",\n",
    "                prettytime(b.times[1]),\n",
    "                round(objective_value(model) |> rad2deg;digits=7),\n",
    "                solution_summary(model).barrier_iterations\n",
    "                ]);\n"
   ]
  },
  {
   "cell_type": "markdown",
   "metadata": {},
   "source": [
    "> the problem for not finding the same solutions with Ipopt + HSL_MA57 and MadNLP comes from the linear solvers used . MadNLP uses Umfpack by default, while we use HSL_MA57 with Ipopt."
   ]
  },
  {
   "cell_type": "code",
   "execution_count": 10,
   "metadata": {},
   "outputs": [
    {
     "name": "stdout",
     "output_type": "stream",
     "text": [
      "Final latitude θ = 34.1790697°\n"
     ]
    }
   ],
   "source": [
    "using  MadNLP\n",
    "using MadNLPHSL\n",
    "model = space_Shuttle_JMP();\n",
    "set_silent(model)\n",
    "set_optimizer(model,()->MadNLP.Optimizer(linear_solver=Ma57Solver))\n",
    "b = @benchmark optimize!(model) evals=1 samples=1\n",
    "println(\n",
    "    \"Final latitude θ = \",\n",
    "    round(objective_value(model) |> rad2deg;digits=7),\n",
    "    \"°\",\n",
    ")\n",
    "push!(results,[ \"MadNLP + HSL_MA57\",\n",
    "                prettytime(b.times[1]),\n",
    "                round(objective_value(model) |> rad2deg;digits=7),\n",
    "                solution_summary(model).barrier_iterations\n",
    "                ]);"
   ]
  },
  {
   "cell_type": "markdown",
   "metadata": {},
   "source": [
    "# results"
   ]
  },
  {
   "cell_type": "code",
   "execution_count": null,
   "metadata": {},
   "outputs": [],
   "source": [
    "results"
   ]
  },
  {
   "cell_type": "code",
   "execution_count": 56,
   "metadata": {},
   "outputs": [
    {
     "name": "stdout",
     "output_type": "stream",
     "text": [
      "╭───────────────────┬──────────────┬─────────────────┬────────────╮\n",
      "│\u001b[33;1m            Method \u001b[0m│\u001b[33;1m   Total Time \u001b[0m│\u001b[33;1m Objective Value \u001b[0m│\u001b[33;1m Iterations \u001b[0m│\n",
      "├───────────────────┼──────────────┼─────────────────┼────────────┤\n",
      "│     Ipopt + MUMPS │  2.1744118 s │      34.1790697 │         97 │\n",
      "│  Ipopt + HSL_MA57 │  1.8534218 s │      34.1790697 │         97 │\n",
      "│  Ipopt + HSL_MA27 │  2.2354654 s │      34.1790697 │         97 │\n",
      "│  MadNLP + Umfpack │ 51.7091433 s │\u001b[31m      34.1664260 \u001b[0m│       1013 │\n",
      "│ MadNLP + HSL_MA57 │ 70.3543391 s │      34.1790697 │        618 │\n",
      "╰───────────────────┴──────────────┴─────────────────┴────────────╯\n"
     ]
    }
   ],
   "source": [
    "using PrettyTables\n",
    "using Colors\n",
    "# Define the custom display function\n",
    "hl_v = Highlighter(\n",
    "           (results, i, j) -> (j == 3) && (results[i, j] != 34.1790697),\n",
    "           crayon\"red\"\n",
    "       );\n",
    "header = [\"Method\", \"Total Time\", \"Objective Value\", \"Iterations\"];\n",
    "# Apply the custom display function to the :objective_value column\n",
    "pretty_table(\n",
    "    results;\n",
    "    formatters    = ft_printf(\"%.7f\", 2:3),\n",
    "    header        = header,\n",
    "    header_crayon = crayon\"yellow bold\",\n",
    "    highlighters  = (hl_v),\n",
    "    tf            = tf_unicode_rounded\n",
    ")"
   ]
  }
 ],
 "metadata": {
  "kernelspec": {
   "display_name": "Julia 1.9.3",
   "language": "julia",
   "name": "julia-1.9"
  },
  "language_info": {
   "file_extension": ".jl",
   "mimetype": "application/julia",
   "name": "julia",
   "version": "1.9.3"
  }
 },
 "nbformat": 4,
 "nbformat_minor": 2
}
