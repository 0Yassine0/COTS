{
 "cells": [
  {
   "cell_type": "markdown",
   "metadata": {},
   "source": [
    "### Test wtih JuMP"
   ]
  },
  {
   "cell_type": "code",
   "execution_count": 4,
   "metadata": {},
   "outputs": [],
   "source": [
    "using JuMP , Ipopt\n",
    "include(\"../Problems/JuMP/space_Shuttle_JMP.jl\")\n",
    "SpaceShuttleJMP = space_Shuttle_JMP();\n",
    "\n",
    "set_optimizer(SpaceShuttleJMP,Ipopt.Optimizer)\n",
    "set_attribute(SpaceShuttleJMP, \"print_level\", 5)\n",
    "set_optimizer_attribute(SpaceShuttleJMP,\"tol\",1e-8)\n",
    "set_optimizer_attribute(SpaceShuttleJMP,\"constr_viol_tol\",1e-6)\n",
    "set_optimizer_attribute(SpaceShuttleJMP,\"max_iter\",1000)"
   ]
  },
  {
   "cell_type": "code",
   "execution_count": 5,
   "metadata": {},
   "outputs": [],
   "source": [
    "println(\"Solving...\")\n",
    "optimize!(SpaceShuttleJMP)\n",
    "println()"
   ]
  }
 ],
 "metadata": {
  "kernelspec": {
   "display_name": "Julia 1.9.3",
   "language": "julia",
   "name": "julia-1.9"
  },
  "language_info": {
   "file_extension": ".jl",
   "mimetype": "application/julia",
   "name": "julia",
   "version": "1.9.3"
  }
 },
 "nbformat": 4,
 "nbformat_minor": 2
}
